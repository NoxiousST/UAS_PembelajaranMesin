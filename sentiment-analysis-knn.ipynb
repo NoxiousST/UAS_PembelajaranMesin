{
 "cells": [
  {
   "cell_type": "markdown",
   "id": "c0a6bc8f",
   "metadata": {
    "papermill": {
     "duration": 0.008168,
     "end_time": "2024-05-07T18:19:52.891142",
     "exception": false,
     "start_time": "2024-05-07T18:19:52.882974",
     "status": "completed"
    },
    "tags": []
   },
   "source": [
    "\n",
    "# Analisis Sentimen Ulasan Amazon Menggunakan K-Nearest Neighbors (KNN) dengan Berbagai Metode Ekstraksi Fitur: BoW, TF-IDF, dan Word2Vec"
   ]
  },
  {
   "cell_type": "markdown",
   "id": "2672085c",
   "metadata": {
    "papermill": {
     "duration": 0.007277,
     "end_time": "2024-05-07T18:19:52.907053",
     "exception": false,
     "start_time": "2024-05-07T18:19:52.899776",
     "status": "completed"
    },
    "tags": []
   },
   "source": [
    "## Introduction\n",
    "\n",
    "Dalam notebook ini, saya telah melakukan Analisis Sentimen pada suatu dataset menggunakan tiga teknik ekstraksi fitur yang berbeda: Bag of Words (BoW), TF-IDF, dan Word2Vec.\n",
    "\n",
    "Saya akan melatih Model KNN untuk klasifikasi Sentimen dan membandingkan performanya."
   ]
  },
  {
   "cell_type": "code",
   "id": "f82d7a11",
   "metadata": {
    "execution": {
     "iopub.execute_input": "2024-05-07T18:19:52.924147Z",
     "iopub.status.busy": "2024-05-07T18:19:52.923695Z",
     "iopub.status.idle": "2024-05-07T18:20:07.111852Z",
     "shell.execute_reply": "2024-05-07T18:20:07.110631Z"
    },
    "papermill": {
     "duration": 14.199679,
     "end_time": "2024-05-07T18:20:07.114252",
     "exception": false,
     "start_time": "2024-05-07T18:19:52.914573",
     "status": "completed"
    },
    "tags": [],
    "ExecuteTime": {
     "end_time": "2025-07-10T13:06:34.239068Z",
     "start_time": "2025-07-10T13:06:23.789494Z"
    }
   },
   "source": [
    "import pandas as pd\n",
    "import numpy as np\n",
    "import re\n",
    "import nltk\n",
    "from nltk.corpus import stopwords\n",
    "from nltk.stem import PorterStemmer\n",
    "from sklearn.model_selection import train_test_split\n",
    "from sklearn.feature_extraction.text import CountVectorizer, TfidfVectorizer\n",
    "from sklearn.neighbors import KNeighborsClassifier\n",
    "from sklearn.metrics import accuracy_score, classification_report, confusion_matrix\n",
    "from gensim.models import Word2Vec\n",
    "import matplotlib.pyplot as plt\n",
    "import seaborn as sns\n",
    "\n",
    "\n",
    "nltk.download('punkt_tab')\n",
    "nltk.download('stopwords')"
   ],
   "outputs": [
    {
     "name": "stderr",
     "output_type": "stream",
     "text": [
      "[nltk_data] Downloading package punkt_tab to C:\\Users\\Daniel\n",
      "[nltk_data]     K\\AppData\\Roaming\\nltk_data...\n",
      "[nltk_data]   Package punkt_tab is already up-to-date!\n",
      "[nltk_data] Downloading package stopwords to C:\\Users\\Daniel\n",
      "[nltk_data]     K\\AppData\\Roaming\\nltk_data...\n",
      "[nltk_data]   Package stopwords is already up-to-date!\n"
     ]
    },
    {
     "data": {
      "text/plain": [
       "True"
      ]
     },
     "execution_count": 1,
     "metadata": {},
     "output_type": "execute_result"
    }
   ],
   "execution_count": 1
  },
  {
   "cell_type": "code",
   "id": "11a5a19e",
   "metadata": {
    "execution": {
     "iopub.execute_input": "2024-05-07T18:20:07.133432Z",
     "iopub.status.busy": "2024-05-07T18:20:07.132781Z",
     "iopub.status.idle": "2024-05-07T18:20:07.139678Z",
     "shell.execute_reply": "2024-05-07T18:20:07.138673Z"
    },
    "papermill": {
     "duration": 0.019003,
     "end_time": "2024-05-07T18:20:07.141797",
     "exception": false,
     "start_time": "2024-05-07T18:20:07.122794",
     "status": "completed"
    },
    "tags": [],
    "ExecuteTime": {
     "end_time": "2025-07-10T13:06:34.308127Z",
     "start_time": "2025-07-10T13:06:34.301249Z"
    }
   },
   "source": [
    "# Preprocessing function\n",
    "def preprocess_text(text):\n",
    "    text = str(text)\n",
    "    text = text.lower()\n",
    "    tokens = nltk.word_tokenize(text)\n",
    "    # Removing punctuation\n",
    "    tokens = [token for token in tokens if re.match(r'^\\w+$', token)]\n",
    "    # Removing stopwords\n",
    "    stop_words = set(stopwords.words('english'))\n",
    "    tokens = [token for token in tokens if token not in stop_words]\n",
    "    # Stemming\n",
    "    stemmer = PorterStemmer()\n",
    "    tokens = [stemmer.stem(token) for token in tokens]\n",
    "    return ' '.join(tokens)"
   ],
   "outputs": [],
   "execution_count": 2
  },
  {
   "cell_type": "markdown",
   "id": "689a8724",
   "metadata": {
    "papermill": {
     "duration": 0.0075,
     "end_time": "2024-05-07T18:20:07.157395",
     "exception": false,
     "start_time": "2024-05-07T18:20:07.149895",
     "status": "completed"
    },
    "tags": []
   },
   "source": "## Mengimpor Data Training"
  },
  {
   "cell_type": "code",
   "id": "faecf789",
   "metadata": {
    "execution": {
     "iopub.execute_input": "2024-05-07T18:20:07.175056Z",
     "iopub.status.busy": "2024-05-07T18:20:07.174637Z",
     "iopub.status.idle": "2024-05-07T18:20:51.134029Z",
     "shell.execute_reply": "2024-05-07T18:20:51.132925Z"
    },
    "papermill": {
     "duration": 43.971209,
     "end_time": "2024-05-07T18:20:51.136538",
     "exception": false,
     "start_time": "2024-05-07T18:20:07.165329",
     "status": "completed"
    },
    "tags": [],
    "ExecuteTime": {
     "end_time": "2025-07-10T13:06:55.873972Z",
     "start_time": "2025-07-10T13:06:34.322887Z"
    }
   },
   "source": [
    "df_original_train = pd.read_csv(\"./train.csv\", header=None, names=(\"polarity\", \"title\", \"text\"))\n",
    "df_train = df_original_train.sample(100000, random_state=99)"
   ],
   "outputs": [],
   "execution_count": 3
  },
  {
   "cell_type": "code",
   "id": "49b7c972",
   "metadata": {
    "execution": {
     "iopub.execute_input": "2024-05-07T18:20:51.155682Z",
     "iopub.status.busy": "2024-05-07T18:20:51.154743Z",
     "iopub.status.idle": "2024-05-07T18:20:56.060020Z",
     "shell.execute_reply": "2024-05-07T18:20:56.058989Z"
    },
    "papermill": {
     "duration": 4.916692,
     "end_time": "2024-05-07T18:20:56.062514",
     "exception": false,
     "start_time": "2024-05-07T18:20:51.145822",
     "status": "completed"
    },
    "tags": [],
    "ExecuteTime": {
     "end_time": "2025-07-10T13:06:59.187755Z",
     "start_time": "2025-07-10T13:06:56.656684Z"
    }
   },
   "source": [
    "df_original_test = pd.read_csv(\"./test.csv\", header=None, names=(\"polarity\", \"title\", \"text\"))\n",
    "df_test = df_original_test.sample(50000, random_state=99)"
   ],
   "outputs": [],
   "execution_count": 4
  },
  {
   "cell_type": "code",
   "id": "267bb937",
   "metadata": {
    "execution": {
     "iopub.execute_input": "2024-05-07T18:20:56.079543Z",
     "iopub.status.busy": "2024-05-07T18:20:56.079163Z",
     "iopub.status.idle": "2024-05-07T18:20:56.098315Z",
     "shell.execute_reply": "2024-05-07T18:20:56.097284Z"
    },
    "papermill": {
     "duration": 0.03017,
     "end_time": "2024-05-07T18:20:56.100476",
     "exception": false,
     "start_time": "2024-05-07T18:20:56.070306",
     "status": "completed"
    },
    "tags": [],
    "ExecuteTime": {
     "end_time": "2025-07-10T13:06:59.249882Z",
     "start_time": "2025-07-10T13:06:59.219952Z"
    }
   },
   "source": [
    "df_train.head()"
   ],
   "outputs": [
    {
     "data": {
      "text/plain": [
       "         polarity                                  title  \\\n",
       "3277024         1           does this man know anything?   \n",
       "2620776         2        If Only Amazon allowed my 6 *s.   \n",
       "1588872         2  A must have item for anyone on the go   \n",
       "3125695         2                           Very Helpful   \n",
       "1668957         1                 Academically Repugnant   \n",
       "\n",
       "                                                      text  \n",
       "3277024  I frown at such ignorance and I am glad that a...  \n",
       "2620776  Wow,This movie is a classic. Family movie by a...  \n",
       "1588872  A lot of my friends had IPod's and spoke very ...  \n",
       "3125695  I bought this book after joining Curves. It he...  \n",
       "1668957  The first ten minutes of the film passed with ...  "
      ],
      "text/html": [
       "<div>\n",
       "<style scoped>\n",
       "    .dataframe tbody tr th:only-of-type {\n",
       "        vertical-align: middle;\n",
       "    }\n",
       "\n",
       "    .dataframe tbody tr th {\n",
       "        vertical-align: top;\n",
       "    }\n",
       "\n",
       "    .dataframe thead th {\n",
       "        text-align: right;\n",
       "    }\n",
       "</style>\n",
       "<table border=\"1\" class=\"dataframe\">\n",
       "  <thead>\n",
       "    <tr style=\"text-align: right;\">\n",
       "      <th></th>\n",
       "      <th>polarity</th>\n",
       "      <th>title</th>\n",
       "      <th>text</th>\n",
       "    </tr>\n",
       "  </thead>\n",
       "  <tbody>\n",
       "    <tr>\n",
       "      <th>3277024</th>\n",
       "      <td>1</td>\n",
       "      <td>does this man know anything?</td>\n",
       "      <td>I frown at such ignorance and I am glad that a...</td>\n",
       "    </tr>\n",
       "    <tr>\n",
       "      <th>2620776</th>\n",
       "      <td>2</td>\n",
       "      <td>If Only Amazon allowed my 6 *s.</td>\n",
       "      <td>Wow,This movie is a classic. Family movie by a...</td>\n",
       "    </tr>\n",
       "    <tr>\n",
       "      <th>1588872</th>\n",
       "      <td>2</td>\n",
       "      <td>A must have item for anyone on the go</td>\n",
       "      <td>A lot of my friends had IPod's and spoke very ...</td>\n",
       "    </tr>\n",
       "    <tr>\n",
       "      <th>3125695</th>\n",
       "      <td>2</td>\n",
       "      <td>Very Helpful</td>\n",
       "      <td>I bought this book after joining Curves. It he...</td>\n",
       "    </tr>\n",
       "    <tr>\n",
       "      <th>1668957</th>\n",
       "      <td>1</td>\n",
       "      <td>Academically Repugnant</td>\n",
       "      <td>The first ten minutes of the film passed with ...</td>\n",
       "    </tr>\n",
       "  </tbody>\n",
       "</table>\n",
       "</div>"
      ]
     },
     "execution_count": 5,
     "metadata": {},
     "output_type": "execute_result"
    }
   ],
   "execution_count": 5
  },
  {
   "cell_type": "code",
   "id": "6d10a19d",
   "metadata": {
    "execution": {
     "iopub.execute_input": "2024-05-07T18:20:56.117629Z",
     "iopub.status.busy": "2024-05-07T18:20:56.117244Z",
     "iopub.status.idle": "2024-05-07T18:20:56.128362Z",
     "shell.execute_reply": "2024-05-07T18:20:56.127362Z"
    },
    "papermill": {
     "duration": 0.021999,
     "end_time": "2024-05-07T18:20:56.130356",
     "exception": false,
     "start_time": "2024-05-07T18:20:56.108357",
     "status": "completed"
    },
    "tags": [],
    "ExecuteTime": {
     "end_time": "2025-07-10T13:06:59.418275Z",
     "start_time": "2025-07-10T13:06:59.404735Z"
    }
   },
   "source": [
    "df_test.head()"
   ],
   "outputs": [
    {
     "data": {
      "text/plain": [
       "        polarity                                              title  \\\n",
       "380051         1                          From Canada, smuggled in?   \n",
       "189282         1                                      Disappointed!   \n",
       "70680          1  Don't buy this product if you're recording fro...   \n",
       "255023         1                                               CRAP   \n",
       "375134         2                                     I love it!!!!!   \n",
       "\n",
       "                                                     text  \n",
       "380051  This product was old, and was from canada...th...  \n",
       "189282  Video transfer is great but a letterbox format...  \n",
       "70680   I was excited o receive the DirectDVD for Chri...  \n",
       "255023  It amazes me that this group of talentless pos...  \n",
       "375134  This is one of the best soundtracks I own. Mas...  "
      ],
      "text/html": [
       "<div>\n",
       "<style scoped>\n",
       "    .dataframe tbody tr th:only-of-type {\n",
       "        vertical-align: middle;\n",
       "    }\n",
       "\n",
       "    .dataframe tbody tr th {\n",
       "        vertical-align: top;\n",
       "    }\n",
       "\n",
       "    .dataframe thead th {\n",
       "        text-align: right;\n",
       "    }\n",
       "</style>\n",
       "<table border=\"1\" class=\"dataframe\">\n",
       "  <thead>\n",
       "    <tr style=\"text-align: right;\">\n",
       "      <th></th>\n",
       "      <th>polarity</th>\n",
       "      <th>title</th>\n",
       "      <th>text</th>\n",
       "    </tr>\n",
       "  </thead>\n",
       "  <tbody>\n",
       "    <tr>\n",
       "      <th>380051</th>\n",
       "      <td>1</td>\n",
       "      <td>From Canada, smuggled in?</td>\n",
       "      <td>This product was old, and was from canada...th...</td>\n",
       "    </tr>\n",
       "    <tr>\n",
       "      <th>189282</th>\n",
       "      <td>1</td>\n",
       "      <td>Disappointed!</td>\n",
       "      <td>Video transfer is great but a letterbox format...</td>\n",
       "    </tr>\n",
       "    <tr>\n",
       "      <th>70680</th>\n",
       "      <td>1</td>\n",
       "      <td>Don't buy this product if you're recording fro...</td>\n",
       "      <td>I was excited o receive the DirectDVD for Chri...</td>\n",
       "    </tr>\n",
       "    <tr>\n",
       "      <th>255023</th>\n",
       "      <td>1</td>\n",
       "      <td>CRAP</td>\n",
       "      <td>It amazes me that this group of talentless pos...</td>\n",
       "    </tr>\n",
       "    <tr>\n",
       "      <th>375134</th>\n",
       "      <td>2</td>\n",
       "      <td>I love it!!!!!</td>\n",
       "      <td>This is one of the best soundtracks I own. Mas...</td>\n",
       "    </tr>\n",
       "  </tbody>\n",
       "</table>\n",
       "</div>"
      ]
     },
     "execution_count": 6,
     "metadata": {},
     "output_type": "execute_result"
    }
   ],
   "execution_count": 6
  },
  {
   "cell_type": "markdown",
   "id": "2fa0610e",
   "metadata": {
    "papermill": {
     "duration": 0.008383,
     "end_time": "2024-05-07T18:20:56.146892",
     "exception": false,
     "start_time": "2024-05-07T18:20:56.138509",
     "status": "completed"
    },
    "tags": []
   },
   "source": [
    "## Data Pre-Processing"
   ]
  },
  {
   "cell_type": "code",
   "id": "91b0ede8",
   "metadata": {
    "execution": {
     "iopub.execute_input": "2024-05-07T18:20:56.165653Z",
     "iopub.status.busy": "2024-05-07T18:20:56.164949Z",
     "iopub.status.idle": "2024-05-07T18:24:29.163139Z",
     "shell.execute_reply": "2024-05-07T18:24:29.161908Z"
    },
    "papermill": {
     "duration": 213.018198,
     "end_time": "2024-05-07T18:24:29.173802",
     "exception": false,
     "start_time": "2024-05-07T18:20:56.155604",
     "status": "completed"
    },
    "tags": [],
    "ExecuteTime": {
     "end_time": "2025-07-10T13:10:16.029893Z",
     "start_time": "2025-07-10T13:06:59.914563Z"
    }
   },
   "source": [
    "df_train[\"clean_text\"] = df_train[\"title\"] + \" \" + df_train[\"text\"]\n",
    "df_train[\"clean_text\"] = df_train[\"clean_text\"].apply(preprocess_text)\n",
    "df_train.head()"
   ],
   "outputs": [
    {
     "data": {
      "text/plain": [
       "         polarity                                  title  \\\n",
       "3277024         1           does this man know anything?   \n",
       "2620776         2        If Only Amazon allowed my 6 *s.   \n",
       "1588872         2  A must have item for anyone on the go   \n",
       "3125695         2                           Very Helpful   \n",
       "1668957         1                 Academically Repugnant   \n",
       "\n",
       "                                                      text  \\\n",
       "3277024  I frown at such ignorance and I am glad that a...   \n",
       "2620776  Wow,This movie is a classic. Family movie by a...   \n",
       "1588872  A lot of my friends had IPod's and spoke very ...   \n",
       "3125695  I bought this book after joining Curves. It he...   \n",
       "1668957  The first ten minutes of the film passed with ...   \n",
       "\n",
       "                                                clean_text  \n",
       "3277024  man know anyth frown ignor glad peopel review ...  \n",
       "2620776  amazon allow 6 wow movi classic famili movi so...  \n",
       "1588872  must item anyon go lot friend ipod spoke favor...  \n",
       "3125695  help bought book join curv help understand cur...  \n",
       "1668957  academ repugn first ten minut film pass slight...  "
      ],
      "text/html": [
       "<div>\n",
       "<style scoped>\n",
       "    .dataframe tbody tr th:only-of-type {\n",
       "        vertical-align: middle;\n",
       "    }\n",
       "\n",
       "    .dataframe tbody tr th {\n",
       "        vertical-align: top;\n",
       "    }\n",
       "\n",
       "    .dataframe thead th {\n",
       "        text-align: right;\n",
       "    }\n",
       "</style>\n",
       "<table border=\"1\" class=\"dataframe\">\n",
       "  <thead>\n",
       "    <tr style=\"text-align: right;\">\n",
       "      <th></th>\n",
       "      <th>polarity</th>\n",
       "      <th>title</th>\n",
       "      <th>text</th>\n",
       "      <th>clean_text</th>\n",
       "    </tr>\n",
       "  </thead>\n",
       "  <tbody>\n",
       "    <tr>\n",
       "      <th>3277024</th>\n",
       "      <td>1</td>\n",
       "      <td>does this man know anything?</td>\n",
       "      <td>I frown at such ignorance and I am glad that a...</td>\n",
       "      <td>man know anyth frown ignor glad peopel review ...</td>\n",
       "    </tr>\n",
       "    <tr>\n",
       "      <th>2620776</th>\n",
       "      <td>2</td>\n",
       "      <td>If Only Amazon allowed my 6 *s.</td>\n",
       "      <td>Wow,This movie is a classic. Family movie by a...</td>\n",
       "      <td>amazon allow 6 wow movi classic famili movi so...</td>\n",
       "    </tr>\n",
       "    <tr>\n",
       "      <th>1588872</th>\n",
       "      <td>2</td>\n",
       "      <td>A must have item for anyone on the go</td>\n",
       "      <td>A lot of my friends had IPod's and spoke very ...</td>\n",
       "      <td>must item anyon go lot friend ipod spoke favor...</td>\n",
       "    </tr>\n",
       "    <tr>\n",
       "      <th>3125695</th>\n",
       "      <td>2</td>\n",
       "      <td>Very Helpful</td>\n",
       "      <td>I bought this book after joining Curves. It he...</td>\n",
       "      <td>help bought book join curv help understand cur...</td>\n",
       "    </tr>\n",
       "    <tr>\n",
       "      <th>1668957</th>\n",
       "      <td>1</td>\n",
       "      <td>Academically Repugnant</td>\n",
       "      <td>The first ten minutes of the film passed with ...</td>\n",
       "      <td>academ repugn first ten minut film pass slight...</td>\n",
       "    </tr>\n",
       "  </tbody>\n",
       "</table>\n",
       "</div>"
      ]
     },
     "execution_count": 7,
     "metadata": {},
     "output_type": "execute_result"
    }
   ],
   "execution_count": 7
  },
  {
   "cell_type": "code",
   "id": "e5214d6e",
   "metadata": {
    "execution": {
     "iopub.execute_input": "2024-05-07T18:24:29.192773Z",
     "iopub.status.busy": "2024-05-07T18:24:29.192403Z",
     "iopub.status.idle": "2024-05-07T18:26:16.054192Z",
     "shell.execute_reply": "2024-05-07T18:26:16.053388Z"
    },
    "papermill": {
     "duration": 106.882437,
     "end_time": "2024-05-07T18:26:16.065224",
     "exception": false,
     "start_time": "2024-05-07T18:24:29.182787",
     "status": "completed"
    },
    "tags": [],
    "ExecuteTime": {
     "end_time": "2025-07-10T13:11:54.400751Z",
     "start_time": "2025-07-10T13:10:16.430377Z"
    }
   },
   "source": [
    "df_test[\"clean_text\"] = df_test[\"title\"] + \" \" + df_test[\"text\"]\n",
    "df_test[\"clean_text\"] = df_test[\"clean_text\"].apply(preprocess_text)\n",
    "df_test.head()"
   ],
   "outputs": [
    {
     "data": {
      "text/plain": [
       "        polarity                                              title  \\\n",
       "380051         1                          From Canada, smuggled in?   \n",
       "189282         1                                      Disappointed!   \n",
       "70680          1  Don't buy this product if you're recording fro...   \n",
       "255023         1                                               CRAP   \n",
       "375134         2                                     I love it!!!!!   \n",
       "\n",
       "                                                     text  \\\n",
       "380051  This product was old, and was from canada...th...   \n",
       "189282  Video transfer is great but a letterbox format...   \n",
       "70680   I was excited o receive the DirectDVD for Chri...   \n",
       "255023  It amazes me that this group of talentless pos...   \n",
       "375134  This is one of the best soundtracks I own. Mas...   \n",
       "\n",
       "                                               clean_text  \n",
       "380051  canada smuggl product old canada blade work fi...  \n",
       "189282  disappoint video transfer great letterbox form...  \n",
       "70680   buy product record dvr excit receiv directdvd ...  \n",
       "255023  crap amaz group talentless poser achiev succes...  \n",
       "375134  love one best soundtrack massiv attack diffin ...  "
      ],
      "text/html": [
       "<div>\n",
       "<style scoped>\n",
       "    .dataframe tbody tr th:only-of-type {\n",
       "        vertical-align: middle;\n",
       "    }\n",
       "\n",
       "    .dataframe tbody tr th {\n",
       "        vertical-align: top;\n",
       "    }\n",
       "\n",
       "    .dataframe thead th {\n",
       "        text-align: right;\n",
       "    }\n",
       "</style>\n",
       "<table border=\"1\" class=\"dataframe\">\n",
       "  <thead>\n",
       "    <tr style=\"text-align: right;\">\n",
       "      <th></th>\n",
       "      <th>polarity</th>\n",
       "      <th>title</th>\n",
       "      <th>text</th>\n",
       "      <th>clean_text</th>\n",
       "    </tr>\n",
       "  </thead>\n",
       "  <tbody>\n",
       "    <tr>\n",
       "      <th>380051</th>\n",
       "      <td>1</td>\n",
       "      <td>From Canada, smuggled in?</td>\n",
       "      <td>This product was old, and was from canada...th...</td>\n",
       "      <td>canada smuggl product old canada blade work fi...</td>\n",
       "    </tr>\n",
       "    <tr>\n",
       "      <th>189282</th>\n",
       "      <td>1</td>\n",
       "      <td>Disappointed!</td>\n",
       "      <td>Video transfer is great but a letterbox format...</td>\n",
       "      <td>disappoint video transfer great letterbox form...</td>\n",
       "    </tr>\n",
       "    <tr>\n",
       "      <th>70680</th>\n",
       "      <td>1</td>\n",
       "      <td>Don't buy this product if you're recording fro...</td>\n",
       "      <td>I was excited o receive the DirectDVD for Chri...</td>\n",
       "      <td>buy product record dvr excit receiv directdvd ...</td>\n",
       "    </tr>\n",
       "    <tr>\n",
       "      <th>255023</th>\n",
       "      <td>1</td>\n",
       "      <td>CRAP</td>\n",
       "      <td>It amazes me that this group of talentless pos...</td>\n",
       "      <td>crap amaz group talentless poser achiev succes...</td>\n",
       "    </tr>\n",
       "    <tr>\n",
       "      <th>375134</th>\n",
       "      <td>2</td>\n",
       "      <td>I love it!!!!!</td>\n",
       "      <td>This is one of the best soundtracks I own. Mas...</td>\n",
       "      <td>love one best soundtrack massiv attack diffin ...</td>\n",
       "    </tr>\n",
       "  </tbody>\n",
       "</table>\n",
       "</div>"
      ]
     },
     "execution_count": 8,
     "metadata": {},
     "output_type": "execute_result"
    }
   ],
   "execution_count": 8
  },
  {
   "cell_type": "markdown",
   "id": "54161207",
   "metadata": {
    "papermill": {
     "duration": 0.008369,
     "end_time": "2024-05-07T18:26:16.082441",
     "exception": false,
     "start_time": "2024-05-07T18:26:16.074072",
     "status": "completed"
    },
    "tags": []
   },
   "source": [
    "## Split X & Y"
   ]
  },
  {
   "cell_type": "code",
   "id": "add97bf0",
   "metadata": {
    "execution": {
     "iopub.execute_input": "2024-05-07T18:26:16.101783Z",
     "iopub.status.busy": "2024-05-07T18:26:16.100947Z",
     "iopub.status.idle": "2024-05-07T18:26:16.106500Z",
     "shell.execute_reply": "2024-05-07T18:26:16.105243Z"
    },
    "papermill": {
     "duration": 0.01785,
     "end_time": "2024-05-07T18:26:16.108999",
     "exception": false,
     "start_time": "2024-05-07T18:26:16.091149",
     "status": "completed"
    },
    "tags": [],
    "ExecuteTime": {
     "end_time": "2025-07-10T13:11:54.498274Z",
     "start_time": "2025-07-10T13:11:54.492641Z"
    }
   },
   "source": [
    "X_train = df_train[\"clean_text\"]\n",
    "y_train = df_train[\"polarity\"]\n",
    "\n",
    "X_test = df_test[\"clean_text\"]\n",
    "y_test = df_test[\"polarity\"]"
   ],
   "outputs": [],
   "execution_count": 9
  },
  {
   "cell_type": "markdown",
   "id": "ebada7ba",
   "metadata": {
    "papermill": {
     "duration": 0.008258,
     "end_time": "2024-05-07T18:26:16.126511",
     "exception": false,
     "start_time": "2024-05-07T18:26:16.118253",
     "status": "completed"
    },
    "tags": []
   },
   "source": [
    "## Feature Extraction\n",
    "\n",
    "Mengekstrak fitur dari teks menggunakan BoW, TF-IDF & Word2Vec"
   ]
  },
  {
   "cell_type": "markdown",
   "id": "0df0ae51",
   "metadata": {
    "papermill": {
     "duration": 0.008336,
     "end_time": "2024-05-07T18:26:16.143539",
     "exception": false,
     "start_time": "2024-05-07T18:26:16.135203",
     "status": "completed"
    },
    "tags": []
   },
   "source": [
    "### BoW: Bag of Words\n",
    "\n",
    "BoW adalah teknik representasi teks sederhana dalam pemrosesan bahasa alami di mana suatu dokumen direpresentasikan sebagai kumpulan kata-kata, mengabaikan tata bahasa dan urutan kata, dan hanya berfokus pada frekuensi kata."
   ]
  },
  {
   "cell_type": "code",
   "id": "d704fd32",
   "metadata": {
    "execution": {
     "iopub.execute_input": "2024-05-07T18:26:16.162835Z",
     "iopub.status.busy": "2024-05-07T18:26:16.162378Z",
     "iopub.status.idle": "2024-05-07T18:26:21.498947Z",
     "shell.execute_reply": "2024-05-07T18:26:21.497758Z"
    },
    "papermill": {
     "duration": 5.349129,
     "end_time": "2024-05-07T18:26:21.501540",
     "exception": false,
     "start_time": "2024-05-07T18:26:16.152411",
     "status": "completed"
    },
    "tags": [],
    "ExecuteTime": {
     "end_time": "2025-07-10T13:12:00.603537Z",
     "start_time": "2025-07-10T13:11:54.747093Z"
    }
   },
   "source": [
    "bow_vectorizer = CountVectorizer()\n",
    "X_train_bow = bow_vectorizer.fit_transform(X_train)\n",
    "X_test_bow = bow_vectorizer.transform(X_test)"
   ],
   "outputs": [],
   "execution_count": 10
  },
  {
   "cell_type": "markdown",
   "id": "28005918",
   "metadata": {
    "papermill": {
     "duration": 0.009038,
     "end_time": "2024-05-07T18:26:21.520608",
     "exception": false,
     "start_time": "2024-05-07T18:26:21.511570",
     "status": "completed"
    },
    "tags": []
   },
   "source": [
    "### TF-IDF: Term Frequency - Inverse Document Frequency\n",
    "\n",
    "TF-IDF adalah ukuran statistik yang digunakan dalam pemrosesan bahasa alami untuk mengevaluasi tingkat kepentingan suatu kata dalam dokumen relatif terhadap korpus. Ukuran ini mencerminkan seberapa sering suatu kata muncul dalam dokumen (TF) diimbangi dengan seberapa jarang kata tersebut muncul di seluruh dokumen dalam korpus (IDF)."
   ]
  },
  {
   "cell_type": "code",
   "id": "2d91b6aa",
   "metadata": {
    "execution": {
     "iopub.execute_input": "2024-05-07T18:26:21.540292Z",
     "iopub.status.busy": "2024-05-07T18:26:21.539938Z",
     "iopub.status.idle": "2024-05-07T18:26:27.163113Z",
     "shell.execute_reply": "2024-05-07T18:26:27.161906Z"
    },
    "papermill": {
     "duration": 5.636133,
     "end_time": "2024-05-07T18:26:27.165816",
     "exception": false,
     "start_time": "2024-05-07T18:26:21.529683",
     "status": "completed"
    },
    "tags": [],
    "ExecuteTime": {
     "end_time": "2025-07-10T13:12:07.215065Z",
     "start_time": "2025-07-10T13:12:00.636759Z"
    }
   },
   "source": [
    "tfidf_vectorizer = TfidfVectorizer()\n",
    "X_train_tfidf = tfidf_vectorizer.fit_transform(X_train)\n",
    "X_test_tfidf = tfidf_vectorizer.transform(X_test)"
   ],
   "outputs": [],
   "execution_count": 11
  },
  {
   "cell_type": "markdown",
   "id": "e16a9f8b",
   "metadata": {
    "papermill": {
     "duration": 0.008608,
     "end_time": "2024-05-07T18:26:27.184333",
     "exception": false,
     "start_time": "2024-05-07T18:26:27.175725",
     "status": "completed"
    },
    "tags": []
   },
   "source": [
    "### Word Embedding menggunakan Word2Vec\n",
    "\n",
    "Word Embedding adalah teknik dalam pemrosesan bahasa alami di mana kata-kata direpresentasikan sebagai vektor padat dalam ruang vektor kontinu, yang menangkap hubungan semantik antarkata berdasarkan konteks dan maknanya.\n",
    "\n",
    "Word2Vec adalah teknik penanaman kata populer yang mempelajari representasi kata yang terdistribusi dalam ruang vektor kontinu dengan menangkap hubungan semantik melalui penggunaan jaringan saraf dangkal, khususnya model skip-gram dan continuous bag-of-words (CBOW)."
   ]
  },
  {
   "cell_type": "markdown",
   "id": "07e2653c",
   "metadata": {
    "papermill": {
     "duration": 0.008741,
     "end_time": "2024-05-07T18:26:27.202006",
     "exception": false,
     "start_time": "2024-05-07T18:26:27.193265",
     "status": "completed"
    },
    "tags": []
   },
   "source": [
    "#### Train Word2Vec Model"
   ]
  },
  {
   "cell_type": "code",
   "id": "659f0286",
   "metadata": {
    "execution": {
     "iopub.execute_input": "2024-05-07T18:26:27.222642Z",
     "iopub.status.busy": "2024-05-07T18:26:27.222036Z",
     "iopub.status.idle": "2024-05-07T18:27:23.356456Z",
     "shell.execute_reply": "2024-05-07T18:27:23.355475Z"
    },
    "papermill": {
     "duration": 56.147845,
     "end_time": "2024-05-07T18:27:23.359017",
     "exception": false,
     "start_time": "2024-05-07T18:26:27.211172",
     "status": "completed"
    },
    "tags": [],
    "ExecuteTime": {
     "end_time": "2025-07-10T13:13:01.528620Z",
     "start_time": "2025-07-10T13:12:07.245977Z"
    }
   },
   "source": [
    "vector_size = 250\n",
    "sentences = [nltk.word_tokenize(sentence) for sentence in df_train['clean_text']]\n",
    "word2vec_model = Word2Vec(sentences, min_count=1, vector_size=vector_size)"
   ],
   "outputs": [],
   "execution_count": 12
  },
  {
   "cell_type": "code",
   "id": "8972f343",
   "metadata": {
    "execution": {
     "iopub.execute_input": "2024-05-07T18:27:23.379424Z",
     "iopub.status.busy": "2024-05-07T18:27:23.378689Z",
     "iopub.status.idle": "2024-05-07T18:27:23.384933Z",
     "shell.execute_reply": "2024-05-07T18:27:23.383704Z"
    },
    "papermill": {
     "duration": 0.018372,
     "end_time": "2024-05-07T18:27:23.386938",
     "exception": false,
     "start_time": "2024-05-07T18:27:23.368566",
     "status": "completed"
    },
    "tags": [],
    "ExecuteTime": {
     "end_time": "2025-07-10T13:13:01.565539Z",
     "start_time": "2025-07-10T13:13:01.559168Z"
    }
   },
   "source": [
    "# Extract document embeddings using word vectors\n",
    "def get_document_embedding(text, word2vec_model, vector_size):\n",
    "    word_vectors = [word2vec_model.wv[word] for word in nltk.word_tokenize(text) if word in word2vec_model.wv]\n",
    "    if word_vectors:\n",
    "        return np.mean(word_vectors, axis=0)\n",
    "    else:\n",
    "        return np.zeros(vector_size)"
   ],
   "outputs": [],
   "execution_count": 13
  },
  {
   "cell_type": "code",
   "id": "250f91bf",
   "metadata": {
    "execution": {
     "iopub.execute_input": "2024-05-07T18:27:23.406689Z",
     "iopub.status.busy": "2024-05-07T18:27:23.406069Z",
     "iopub.status.idle": "2024-05-07T18:28:22.456760Z",
     "shell.execute_reply": "2024-05-07T18:28:22.455529Z"
    },
    "papermill": {
     "duration": 59.064004,
     "end_time": "2024-05-07T18:28:22.459834",
     "exception": false,
     "start_time": "2024-05-07T18:27:23.395830",
     "status": "completed"
    },
    "tags": [],
    "ExecuteTime": {
     "end_time": "2025-07-10T13:13:44.073461Z",
     "start_time": "2025-07-10T13:13:01.607174Z"
    }
   },
   "source": [
    "X_train_word2vec = np.array([get_document_embedding(text, word2vec_model, vector_size) for text in X_train])\n",
    "X_test_word2vec = np.array([get_document_embedding(text, word2vec_model, vector_size) for text in X_test])"
   ],
   "outputs": [],
   "execution_count": 14
  },
  {
   "cell_type": "markdown",
   "id": "ca274298",
   "metadata": {
    "papermill": {
     "duration": 0.009174,
     "end_time": "2024-05-07T18:28:22.478693",
     "exception": false,
     "start_time": "2024-05-07T18:28:22.469519",
     "status": "completed"
    },
    "tags": []
   },
   "source": [
    "## KNN Model Training"
   ]
  },
  {
   "cell_type": "markdown",
   "id": "22b4ad9c",
   "metadata": {
    "papermill": {
     "duration": 0.008689,
     "end_time": "2024-05-07T18:28:22.496483",
     "exception": false,
     "start_time": "2024-05-07T18:28:22.487794",
     "status": "completed"
    },
    "tags": []
   },
   "source": "### KNN menggunakan BoW"
  },
  {
   "cell_type": "code",
   "id": "785cbe0e",
   "metadata": {
    "execution": {
     "iopub.execute_input": "2024-05-07T18:28:22.516614Z",
     "iopub.status.busy": "2024-05-07T18:28:22.516247Z",
     "iopub.status.idle": "2024-05-07T18:28:22.543614Z",
     "shell.execute_reply": "2024-05-07T18:28:22.542689Z"
    },
    "papermill": {
     "duration": 0.040747,
     "end_time": "2024-05-07T18:28:22.546482",
     "exception": false,
     "start_time": "2024-05-07T18:28:22.505735",
     "status": "completed"
    },
    "tags": [],
    "ExecuteTime": {
     "end_time": "2025-07-10T13:13:44.175326Z",
     "start_time": "2025-07-10T13:13:44.125477Z"
    }
   },
   "source": [
    "knn_bow = KNeighborsClassifier(n_neighbors=5)\n",
    "knn_bow.fit(X_train_bow, y_train)"
   ],
   "outputs": [
    {
     "data": {
      "text/plain": [
       "KNeighborsClassifier()"
      ],
      "text/html": [
       "<style>#sk-container-id-1 {\n",
       "  /* Definition of color scheme common for light and dark mode */\n",
       "  --sklearn-color-text: black;\n",
       "  --sklearn-color-line: gray;\n",
       "  /* Definition of color scheme for unfitted estimators */\n",
       "  --sklearn-color-unfitted-level-0: #fff5e6;\n",
       "  --sklearn-color-unfitted-level-1: #f6e4d2;\n",
       "  --sklearn-color-unfitted-level-2: #ffe0b3;\n",
       "  --sklearn-color-unfitted-level-3: chocolate;\n",
       "  /* Definition of color scheme for fitted estimators */\n",
       "  --sklearn-color-fitted-level-0: #f0f8ff;\n",
       "  --sklearn-color-fitted-level-1: #d4ebff;\n",
       "  --sklearn-color-fitted-level-2: #b3dbfd;\n",
       "  --sklearn-color-fitted-level-3: cornflowerblue;\n",
       "\n",
       "  /* Specific color for light theme */\n",
       "  --sklearn-color-text-on-default-background: var(--sg-text-color, var(--theme-code-foreground, var(--jp-content-font-color1, black)));\n",
       "  --sklearn-color-background: var(--sg-background-color, var(--theme-background, var(--jp-layout-color0, white)));\n",
       "  --sklearn-color-border-box: var(--sg-text-color, var(--theme-code-foreground, var(--jp-content-font-color1, black)));\n",
       "  --sklearn-color-icon: #696969;\n",
       "\n",
       "  @media (prefers-color-scheme: dark) {\n",
       "    /* Redefinition of color scheme for dark theme */\n",
       "    --sklearn-color-text-on-default-background: var(--sg-text-color, var(--theme-code-foreground, var(--jp-content-font-color1, white)));\n",
       "    --sklearn-color-background: var(--sg-background-color, var(--theme-background, var(--jp-layout-color0, #111)));\n",
       "    --sklearn-color-border-box: var(--sg-text-color, var(--theme-code-foreground, var(--jp-content-font-color1, white)));\n",
       "    --sklearn-color-icon: #878787;\n",
       "  }\n",
       "}\n",
       "\n",
       "#sk-container-id-1 {\n",
       "  color: var(--sklearn-color-text);\n",
       "}\n",
       "\n",
       "#sk-container-id-1 pre {\n",
       "  padding: 0;\n",
       "}\n",
       "\n",
       "#sk-container-id-1 input.sk-hidden--visually {\n",
       "  border: 0;\n",
       "  clip: rect(1px 1px 1px 1px);\n",
       "  clip: rect(1px, 1px, 1px, 1px);\n",
       "  height: 1px;\n",
       "  margin: -1px;\n",
       "  overflow: hidden;\n",
       "  padding: 0;\n",
       "  position: absolute;\n",
       "  width: 1px;\n",
       "}\n",
       "\n",
       "#sk-container-id-1 div.sk-dashed-wrapped {\n",
       "  border: 1px dashed var(--sklearn-color-line);\n",
       "  margin: 0 0.4em 0.5em 0.4em;\n",
       "  box-sizing: border-box;\n",
       "  padding-bottom: 0.4em;\n",
       "  background-color: var(--sklearn-color-background);\n",
       "}\n",
       "\n",
       "#sk-container-id-1 div.sk-container {\n",
       "  /* jupyter's `normalize.less` sets `[hidden] { display: none; }`\n",
       "     but bootstrap.min.css set `[hidden] { display: none !important; }`\n",
       "     so we also need the `!important` here to be able to override the\n",
       "     default hidden behavior on the sphinx rendered scikit-learn.org.\n",
       "     See: https://github.com/scikit-learn/scikit-learn/issues/21755 */\n",
       "  display: inline-block !important;\n",
       "  position: relative;\n",
       "}\n",
       "\n",
       "#sk-container-id-1 div.sk-text-repr-fallback {\n",
       "  display: none;\n",
       "}\n",
       "\n",
       "div.sk-parallel-item,\n",
       "div.sk-serial,\n",
       "div.sk-item {\n",
       "  /* draw centered vertical line to link estimators */\n",
       "  background-image: linear-gradient(var(--sklearn-color-text-on-default-background), var(--sklearn-color-text-on-default-background));\n",
       "  background-size: 2px 100%;\n",
       "  background-repeat: no-repeat;\n",
       "  background-position: center center;\n",
       "}\n",
       "\n",
       "/* Parallel-specific style estimator block */\n",
       "\n",
       "#sk-container-id-1 div.sk-parallel-item::after {\n",
       "  content: \"\";\n",
       "  width: 100%;\n",
       "  border-bottom: 2px solid var(--sklearn-color-text-on-default-background);\n",
       "  flex-grow: 1;\n",
       "}\n",
       "\n",
       "#sk-container-id-1 div.sk-parallel {\n",
       "  display: flex;\n",
       "  align-items: stretch;\n",
       "  justify-content: center;\n",
       "  background-color: var(--sklearn-color-background);\n",
       "  position: relative;\n",
       "}\n",
       "\n",
       "#sk-container-id-1 div.sk-parallel-item {\n",
       "  display: flex;\n",
       "  flex-direction: column;\n",
       "}\n",
       "\n",
       "#sk-container-id-1 div.sk-parallel-item:first-child::after {\n",
       "  align-self: flex-end;\n",
       "  width: 50%;\n",
       "}\n",
       "\n",
       "#sk-container-id-1 div.sk-parallel-item:last-child::after {\n",
       "  align-self: flex-start;\n",
       "  width: 50%;\n",
       "}\n",
       "\n",
       "#sk-container-id-1 div.sk-parallel-item:only-child::after {\n",
       "  width: 0;\n",
       "}\n",
       "\n",
       "/* Serial-specific style estimator block */\n",
       "\n",
       "#sk-container-id-1 div.sk-serial {\n",
       "  display: flex;\n",
       "  flex-direction: column;\n",
       "  align-items: center;\n",
       "  background-color: var(--sklearn-color-background);\n",
       "  padding-right: 1em;\n",
       "  padding-left: 1em;\n",
       "}\n",
       "\n",
       "\n",
       "/* Toggleable style: style used for estimator/Pipeline/ColumnTransformer box that is\n",
       "clickable and can be expanded/collapsed.\n",
       "- Pipeline and ColumnTransformer use this feature and define the default style\n",
       "- Estimators will overwrite some part of the style using the `sk-estimator` class\n",
       "*/\n",
       "\n",
       "/* Pipeline and ColumnTransformer style (default) */\n",
       "\n",
       "#sk-container-id-1 div.sk-toggleable {\n",
       "  /* Default theme specific background. It is overwritten whether we have a\n",
       "  specific estimator or a Pipeline/ColumnTransformer */\n",
       "  background-color: var(--sklearn-color-background);\n",
       "}\n",
       "\n",
       "/* Toggleable label */\n",
       "#sk-container-id-1 label.sk-toggleable__label {\n",
       "  cursor: pointer;\n",
       "  display: block;\n",
       "  width: 100%;\n",
       "  margin-bottom: 0;\n",
       "  padding: 0.5em;\n",
       "  box-sizing: border-box;\n",
       "  text-align: center;\n",
       "}\n",
       "\n",
       "#sk-container-id-1 label.sk-toggleable__label-arrow:before {\n",
       "  /* Arrow on the left of the label */\n",
       "  content: \"▸\";\n",
       "  float: left;\n",
       "  margin-right: 0.25em;\n",
       "  color: var(--sklearn-color-icon);\n",
       "}\n",
       "\n",
       "#sk-container-id-1 label.sk-toggleable__label-arrow:hover:before {\n",
       "  color: var(--sklearn-color-text);\n",
       "}\n",
       "\n",
       "/* Toggleable content - dropdown */\n",
       "\n",
       "#sk-container-id-1 div.sk-toggleable__content {\n",
       "  max-height: 0;\n",
       "  max-width: 0;\n",
       "  overflow: hidden;\n",
       "  text-align: left;\n",
       "  /* unfitted */\n",
       "  background-color: var(--sklearn-color-unfitted-level-0);\n",
       "}\n",
       "\n",
       "#sk-container-id-1 div.sk-toggleable__content.fitted {\n",
       "  /* fitted */\n",
       "  background-color: var(--sklearn-color-fitted-level-0);\n",
       "}\n",
       "\n",
       "#sk-container-id-1 div.sk-toggleable__content pre {\n",
       "  margin: 0.2em;\n",
       "  border-radius: 0.25em;\n",
       "  color: var(--sklearn-color-text);\n",
       "  /* unfitted */\n",
       "  background-color: var(--sklearn-color-unfitted-level-0);\n",
       "}\n",
       "\n",
       "#sk-container-id-1 div.sk-toggleable__content.fitted pre {\n",
       "  /* unfitted */\n",
       "  background-color: var(--sklearn-color-fitted-level-0);\n",
       "}\n",
       "\n",
       "#sk-container-id-1 input.sk-toggleable__control:checked~div.sk-toggleable__content {\n",
       "  /* Expand drop-down */\n",
       "  max-height: 200px;\n",
       "  max-width: 100%;\n",
       "  overflow: auto;\n",
       "}\n",
       "\n",
       "#sk-container-id-1 input.sk-toggleable__control:checked~label.sk-toggleable__label-arrow:before {\n",
       "  content: \"▾\";\n",
       "}\n",
       "\n",
       "/* Pipeline/ColumnTransformer-specific style */\n",
       "\n",
       "#sk-container-id-1 div.sk-label input.sk-toggleable__control:checked~label.sk-toggleable__label {\n",
       "  color: var(--sklearn-color-text);\n",
       "  background-color: var(--sklearn-color-unfitted-level-2);\n",
       "}\n",
       "\n",
       "#sk-container-id-1 div.sk-label.fitted input.sk-toggleable__control:checked~label.sk-toggleable__label {\n",
       "  background-color: var(--sklearn-color-fitted-level-2);\n",
       "}\n",
       "\n",
       "/* Estimator-specific style */\n",
       "\n",
       "/* Colorize estimator box */\n",
       "#sk-container-id-1 div.sk-estimator input.sk-toggleable__control:checked~label.sk-toggleable__label {\n",
       "  /* unfitted */\n",
       "  background-color: var(--sklearn-color-unfitted-level-2);\n",
       "}\n",
       "\n",
       "#sk-container-id-1 div.sk-estimator.fitted input.sk-toggleable__control:checked~label.sk-toggleable__label {\n",
       "  /* fitted */\n",
       "  background-color: var(--sklearn-color-fitted-level-2);\n",
       "}\n",
       "\n",
       "#sk-container-id-1 div.sk-label label.sk-toggleable__label,\n",
       "#sk-container-id-1 div.sk-label label {\n",
       "  /* The background is the default theme color */\n",
       "  color: var(--sklearn-color-text-on-default-background);\n",
       "}\n",
       "\n",
       "/* On hover, darken the color of the background */\n",
       "#sk-container-id-1 div.sk-label:hover label.sk-toggleable__label {\n",
       "  color: var(--sklearn-color-text);\n",
       "  background-color: var(--sklearn-color-unfitted-level-2);\n",
       "}\n",
       "\n",
       "/* Label box, darken color on hover, fitted */\n",
       "#sk-container-id-1 div.sk-label.fitted:hover label.sk-toggleable__label.fitted {\n",
       "  color: var(--sklearn-color-text);\n",
       "  background-color: var(--sklearn-color-fitted-level-2);\n",
       "}\n",
       "\n",
       "/* Estimator label */\n",
       "\n",
       "#sk-container-id-1 div.sk-label label {\n",
       "  font-family: monospace;\n",
       "  font-weight: bold;\n",
       "  display: inline-block;\n",
       "  line-height: 1.2em;\n",
       "}\n",
       "\n",
       "#sk-container-id-1 div.sk-label-container {\n",
       "  text-align: center;\n",
       "}\n",
       "\n",
       "/* Estimator-specific */\n",
       "#sk-container-id-1 div.sk-estimator {\n",
       "  font-family: monospace;\n",
       "  border: 1px dotted var(--sklearn-color-border-box);\n",
       "  border-radius: 0.25em;\n",
       "  box-sizing: border-box;\n",
       "  margin-bottom: 0.5em;\n",
       "  /* unfitted */\n",
       "  background-color: var(--sklearn-color-unfitted-level-0);\n",
       "}\n",
       "\n",
       "#sk-container-id-1 div.sk-estimator.fitted {\n",
       "  /* fitted */\n",
       "  background-color: var(--sklearn-color-fitted-level-0);\n",
       "}\n",
       "\n",
       "/* on hover */\n",
       "#sk-container-id-1 div.sk-estimator:hover {\n",
       "  /* unfitted */\n",
       "  background-color: var(--sklearn-color-unfitted-level-2);\n",
       "}\n",
       "\n",
       "#sk-container-id-1 div.sk-estimator.fitted:hover {\n",
       "  /* fitted */\n",
       "  background-color: var(--sklearn-color-fitted-level-2);\n",
       "}\n",
       "\n",
       "/* Specification for estimator info (e.g. \"i\" and \"?\") */\n",
       "\n",
       "/* Common style for \"i\" and \"?\" */\n",
       "\n",
       ".sk-estimator-doc-link,\n",
       "a:link.sk-estimator-doc-link,\n",
       "a:visited.sk-estimator-doc-link {\n",
       "  float: right;\n",
       "  font-size: smaller;\n",
       "  line-height: 1em;\n",
       "  font-family: monospace;\n",
       "  background-color: var(--sklearn-color-background);\n",
       "  border-radius: 1em;\n",
       "  height: 1em;\n",
       "  width: 1em;\n",
       "  text-decoration: none !important;\n",
       "  margin-left: 1ex;\n",
       "  /* unfitted */\n",
       "  border: var(--sklearn-color-unfitted-level-1) 1pt solid;\n",
       "  color: var(--sklearn-color-unfitted-level-1);\n",
       "}\n",
       "\n",
       ".sk-estimator-doc-link.fitted,\n",
       "a:link.sk-estimator-doc-link.fitted,\n",
       "a:visited.sk-estimator-doc-link.fitted {\n",
       "  /* fitted */\n",
       "  border: var(--sklearn-color-fitted-level-1) 1pt solid;\n",
       "  color: var(--sklearn-color-fitted-level-1);\n",
       "}\n",
       "\n",
       "/* On hover */\n",
       "div.sk-estimator:hover .sk-estimator-doc-link:hover,\n",
       ".sk-estimator-doc-link:hover,\n",
       "div.sk-label-container:hover .sk-estimator-doc-link:hover,\n",
       ".sk-estimator-doc-link:hover {\n",
       "  /* unfitted */\n",
       "  background-color: var(--sklearn-color-unfitted-level-3);\n",
       "  color: var(--sklearn-color-background);\n",
       "  text-decoration: none;\n",
       "}\n",
       "\n",
       "div.sk-estimator.fitted:hover .sk-estimator-doc-link.fitted:hover,\n",
       ".sk-estimator-doc-link.fitted:hover,\n",
       "div.sk-label-container:hover .sk-estimator-doc-link.fitted:hover,\n",
       ".sk-estimator-doc-link.fitted:hover {\n",
       "  /* fitted */\n",
       "  background-color: var(--sklearn-color-fitted-level-3);\n",
       "  color: var(--sklearn-color-background);\n",
       "  text-decoration: none;\n",
       "}\n",
       "\n",
       "/* Span, style for the box shown on hovering the info icon */\n",
       ".sk-estimator-doc-link span {\n",
       "  display: none;\n",
       "  z-index: 9999;\n",
       "  position: relative;\n",
       "  font-weight: normal;\n",
       "  right: .2ex;\n",
       "  padding: .5ex;\n",
       "  margin: .5ex;\n",
       "  width: min-content;\n",
       "  min-width: 20ex;\n",
       "  max-width: 50ex;\n",
       "  color: var(--sklearn-color-text);\n",
       "  box-shadow: 2pt 2pt 4pt #999;\n",
       "  /* unfitted */\n",
       "  background: var(--sklearn-color-unfitted-level-0);\n",
       "  border: .5pt solid var(--sklearn-color-unfitted-level-3);\n",
       "}\n",
       "\n",
       ".sk-estimator-doc-link.fitted span {\n",
       "  /* fitted */\n",
       "  background: var(--sklearn-color-fitted-level-0);\n",
       "  border: var(--sklearn-color-fitted-level-3);\n",
       "}\n",
       "\n",
       ".sk-estimator-doc-link:hover span {\n",
       "  display: block;\n",
       "}\n",
       "\n",
       "/* \"?\"-specific style due to the `<a>` HTML tag */\n",
       "\n",
       "#sk-container-id-1 a.estimator_doc_link {\n",
       "  float: right;\n",
       "  font-size: 1rem;\n",
       "  line-height: 1em;\n",
       "  font-family: monospace;\n",
       "  background-color: var(--sklearn-color-background);\n",
       "  border-radius: 1rem;\n",
       "  height: 1rem;\n",
       "  width: 1rem;\n",
       "  text-decoration: none;\n",
       "  /* unfitted */\n",
       "  color: var(--sklearn-color-unfitted-level-1);\n",
       "  border: var(--sklearn-color-unfitted-level-1) 1pt solid;\n",
       "}\n",
       "\n",
       "#sk-container-id-1 a.estimator_doc_link.fitted {\n",
       "  /* fitted */\n",
       "  border: var(--sklearn-color-fitted-level-1) 1pt solid;\n",
       "  color: var(--sklearn-color-fitted-level-1);\n",
       "}\n",
       "\n",
       "/* On hover */\n",
       "#sk-container-id-1 a.estimator_doc_link:hover {\n",
       "  /* unfitted */\n",
       "  background-color: var(--sklearn-color-unfitted-level-3);\n",
       "  color: var(--sklearn-color-background);\n",
       "  text-decoration: none;\n",
       "}\n",
       "\n",
       "#sk-container-id-1 a.estimator_doc_link.fitted:hover {\n",
       "  /* fitted */\n",
       "  background-color: var(--sklearn-color-fitted-level-3);\n",
       "}\n",
       "</style><div id=\"sk-container-id-1\" class=\"sk-top-container\"><div class=\"sk-text-repr-fallback\"><pre>KNeighborsClassifier()</pre><b>In a Jupyter environment, please rerun this cell to show the HTML representation or trust the notebook. <br />On GitHub, the HTML representation is unable to render, please try loading this page with nbviewer.org.</b></div><div class=\"sk-container\" hidden><div class=\"sk-item\"><div class=\"sk-estimator fitted sk-toggleable\"><input class=\"sk-toggleable__control sk-hidden--visually\" id=\"sk-estimator-id-1\" type=\"checkbox\" checked><label for=\"sk-estimator-id-1\" class=\"sk-toggleable__label fitted sk-toggleable__label-arrow fitted\">&nbsp;&nbsp;KNeighborsClassifier<a class=\"sk-estimator-doc-link fitted\" rel=\"noreferrer\" target=\"_blank\" href=\"https://scikit-learn.org/1.5/modules/generated/sklearn.neighbors.KNeighborsClassifier.html\">?<span>Documentation for KNeighborsClassifier</span></a><span class=\"sk-estimator-doc-link fitted\">i<span>Fitted</span></span></label><div class=\"sk-toggleable__content fitted\"><pre>KNeighborsClassifier()</pre></div> </div></div></div></div>"
      ]
     },
     "execution_count": 15,
     "metadata": {},
     "output_type": "execute_result"
    }
   ],
   "execution_count": 15
  },
  {
   "cell_type": "code",
   "id": "8d47dcca",
   "metadata": {
    "execution": {
     "iopub.execute_input": "2024-05-07T18:28:22.569146Z",
     "iopub.status.busy": "2024-05-07T18:28:22.567930Z",
     "iopub.status.idle": "2024-05-07T18:32:45.489946Z",
     "shell.execute_reply": "2024-05-07T18:32:45.488812Z"
    },
    "papermill": {
     "duration": 262.935647,
     "end_time": "2024-05-07T18:32:45.492921",
     "exception": false,
     "start_time": "2024-05-07T18:28:22.557274",
     "status": "completed"
    },
    "tags": [],
    "ExecuteTime": {
     "end_time": "2025-07-10T13:16:59.738995Z",
     "start_time": "2025-07-10T13:13:44.284646Z"
    }
   },
   "source": [
    "y_pred_bow = knn_bow.predict(X_test_bow)"
   ],
   "outputs": [],
   "execution_count": 16
  },
  {
   "cell_type": "code",
   "id": "cf6fa108",
   "metadata": {
    "execution": {
     "iopub.execute_input": "2024-05-07T18:32:45.514543Z",
     "iopub.status.busy": "2024-05-07T18:32:45.514153Z",
     "iopub.status.idle": "2024-05-07T18:32:45.626685Z",
     "shell.execute_reply": "2024-05-07T18:32:45.625576Z"
    },
    "papermill": {
     "duration": 0.12634,
     "end_time": "2024-05-07T18:32:45.629100",
     "exception": false,
     "start_time": "2024-05-07T18:32:45.502760",
     "status": "completed"
    },
    "tags": [],
    "ExecuteTime": {
     "end_time": "2025-07-10T13:17:00.083132Z",
     "start_time": "2025-07-10T13:16:59.904602Z"
    }
   },
   "source": [
    "accuracy_bow = accuracy_score(y_test, y_pred_bow)\n",
    "print(\"Logistic Regression with BoW Accuracy:\", accuracy_bow)\n",
    "print(\"Classification Report with BoW:\")\n",
    "print(classification_report(y_test, y_pred_bow))"
   ],
   "outputs": [
    {
     "name": "stdout",
     "output_type": "stream",
     "text": [
      "Logistic Regression with BoW Accuracy: 0.65906\n",
      "Classification Report with BoW:\n",
      "              precision    recall  f1-score   support\n",
      "\n",
      "           1       0.65      0.69      0.67     25028\n",
      "           2       0.67      0.63      0.65     24972\n",
      "\n",
      "    accuracy                           0.66     50000\n",
      "   macro avg       0.66      0.66      0.66     50000\n",
      "weighted avg       0.66      0.66      0.66     50000\n",
      "\n"
     ]
    }
   ],
   "execution_count": 17
  },
  {
   "cell_type": "code",
   "id": "cad148c2",
   "metadata": {
    "execution": {
     "iopub.execute_input": "2024-05-07T18:32:45.650273Z",
     "iopub.status.busy": "2024-05-07T18:32:45.649675Z",
     "iopub.status.idle": "2024-05-07T18:32:45.995247Z",
     "shell.execute_reply": "2024-05-07T18:32:45.994058Z"
    },
    "papermill": {
     "duration": 0.359216,
     "end_time": "2024-05-07T18:32:45.997845",
     "exception": false,
     "start_time": "2024-05-07T18:32:45.638629",
     "status": "completed"
    },
    "tags": [],
    "ExecuteTime": {
     "end_time": "2025-07-10T13:17:01.075924Z",
     "start_time": "2025-07-10T13:17:00.136487Z"
    }
   },
   "source": [
    "cm_bow = confusion_matrix(y_test, y_pred_bow)\n",
    "plt.figure(figsize=(8, 6))\n",
    "sns.heatmap(cm_bow, annot=True, fmt='d', cmap='Blues', xticklabels=['Negative', 'Positive'], yticklabels=['Negative', 'Positive'])\n",
    "plt.xlabel('Predicted Label')\n",
    "plt.ylabel('True Label')\n",
    "plt.title('Confusion Matrix Heat Map for BoW')\n",
    "plt.show()"
   ],
   "outputs": [
    {
     "data": {
      "text/plain": [
       "<Figure size 800x600 with 2 Axes>"
      ],
      "image/png": "[encoded data removed]"
     },
     "metadata": {},
     "output_type": "display_data"
    }
   ],
   "execution_count": 18
  },
  {
   "cell_type": "markdown",
   "id": "6b44c871",
   "metadata": {
    "papermill": {
     "duration": 0.009859,
     "end_time": "2024-05-07T18:32:46.018166",
     "exception": false,
     "start_time": "2024-05-07T18:32:46.008307",
     "status": "completed"
    },
    "tags": []
   },
   "source": "### KNN menggunakan TF-IDF"
  },
  {
   "cell_type": "code",
   "id": "e2ef51e3",
   "metadata": {
    "execution": {
     "iopub.execute_input": "2024-05-07T18:32:46.040345Z",
     "iopub.status.busy": "2024-05-07T18:32:46.039958Z",
     "iopub.status.idle": "2024-05-07T18:32:46.068556Z",
     "shell.execute_reply": "2024-05-07T18:32:46.067446Z"
    },
    "papermill": {
     "duration": 0.042441,
     "end_time": "2024-05-07T18:32:46.070828",
     "exception": false,
     "start_time": "2024-05-07T18:32:46.028387",
     "status": "completed"
    },
    "tags": [],
    "ExecuteTime": {
     "end_time": "2025-07-10T13:17:01.230969Z",
     "start_time": "2025-07-10T13:17:01.124630Z"
    }
   },
   "source": [
    "knn_tfidf = KNeighborsClassifier(n_neighbors=5)\n",
    "knn_tfidf.fit(X_train_tfidf, y_train)"
   ],
   "outputs": [
    {
     "data": {
      "text/plain": [
       "KNeighborsClassifier()"
      ],
      "text/html": [
       "<style>#sk-container-id-2 {\n",
       "  /* Definition of color scheme common for light and dark mode */\n",
       "  --sklearn-color-text: black;\n",
       "  --sklearn-color-line: gray;\n",
       "  /* Definition of color scheme for unfitted estimators */\n",
       "  --sklearn-color-unfitted-level-0: #fff5e6;\n",
       "  --sklearn-color-unfitted-level-1: #f6e4d2;\n",
       "  --sklearn-color-unfitted-level-2: #ffe0b3;\n",
       "  --sklearn-color-unfitted-level-3: chocolate;\n",
       "  /* Definition of color scheme for fitted estimators */\n",
       "  --sklearn-color-fitted-level-0: #f0f8ff;\n",
       "  --sklearn-color-fitted-level-1: #d4ebff;\n",
       "  --sklearn-color-fitted-level-2: #b3dbfd;\n",
       "  --sklearn-color-fitted-level-3: cornflowerblue;\n",
       "\n",
       "  /* Specific color for light theme */\n",
       "  --sklearn-color-text-on-default-background: var(--sg-text-color, var(--theme-code-foreground, var(--jp-content-font-color1, black)));\n",
       "  --sklearn-color-background: var(--sg-background-color, var(--theme-background, var(--jp-layout-color0, white)));\n",
       "  --sklearn-color-border-box: var(--sg-text-color, var(--theme-code-foreground, var(--jp-content-font-color1, black)));\n",
       "  --sklearn-color-icon: #696969;\n",
       "\n",
       "  @media (prefers-color-scheme: dark) {\n",
       "    /* Redefinition of color scheme for dark theme */\n",
       "    --sklearn-color-text-on-default-background: var(--sg-text-color, var(--theme-code-foreground, var(--jp-content-font-color1, white)));\n",
       "    --sklearn-color-background: var(--sg-background-color, var(--theme-background, var(--jp-layout-color0, #111)));\n",
       "    --sklearn-color-border-box: var(--sg-text-color, var(--theme-code-foreground, var(--jp-content-font-color1, white)));\n",
       "    --sklearn-color-icon: #878787;\n",
       "  }\n",
       "}\n",
       "\n",
       "#sk-container-id-2 {\n",
       "  color: var(--sklearn-color-text);\n",
       "}\n",
       "\n",
       "#sk-container-id-2 pre {\n",
       "  padding: 0;\n",
       "}\n",
       "\n",
       "#sk-container-id-2 input.sk-hidden--visually {\n",
       "  border: 0;\n",
       "  clip: rect(1px 1px 1px 1px);\n",
       "  clip: rect(1px, 1px, 1px, 1px);\n",
       "  height: 1px;\n",
       "  margin: -1px;\n",
       "  overflow: hidden;\n",
       "  padding: 0;\n",
       "  position: absolute;\n",
       "  width: 1px;\n",
       "}\n",
       "\n",
       "#sk-container-id-2 div.sk-dashed-wrapped {\n",
       "  border: 1px dashed var(--sklearn-color-line);\n",
       "  margin: 0 0.4em 0.5em 0.4em;\n",
       "  box-sizing: border-box;\n",
       "  padding-bottom: 0.4em;\n",
       "  background-color: var(--sklearn-color-background);\n",
       "}\n",
       "\n",
       "#sk-container-id-2 div.sk-container {\n",
       "  /* jupyter's `normalize.less` sets `[hidden] { display: none; }`\n",
       "     but bootstrap.min.css set `[hidden] { display: none !important; }`\n",
       "     so we also need the `!important` here to be able to override the\n",
       "     default hidden behavior on the sphinx rendered scikit-learn.org.\n",
       "     See: https://github.com/scikit-learn/scikit-learn/issues/21755 */\n",
       "  display: inline-block !important;\n",
       "  position: relative;\n",
       "}\n",
       "\n",
       "#sk-container-id-2 div.sk-text-repr-fallback {\n",
       "  display: none;\n",
       "}\n",
       "\n",
       "div.sk-parallel-item,\n",
       "div.sk-serial,\n",
       "div.sk-item {\n",
       "  /* draw centered vertical line to link estimators */\n",
       "  background-image: linear-gradient(var(--sklearn-color-text-on-default-background), var(--sklearn-color-text-on-default-background));\n",
       "  background-size: 2px 100%;\n",
       "  background-repeat: no-repeat;\n",
       "  background-position: center center;\n",
       "}\n",
       "\n",
       "/* Parallel-specific style estimator block */\n",
       "\n",
       "#sk-container-id-2 div.sk-parallel-item::after {\n",
       "  content: \"\";\n",
       "  width: 100%;\n",
       "  border-bottom: 2px solid var(--sklearn-color-text-on-default-background);\n",
       "  flex-grow: 1;\n",
       "}\n",
       "\n",
       "#sk-container-id-2 div.sk-parallel {\n",
       "  display: flex;\n",
       "  align-items: stretch;\n",
       "  justify-content: center;\n",
       "  background-color: var(--sklearn-color-background);\n",
       "  position: relative;\n",
       "}\n",
       "\n",
       "#sk-container-id-2 div.sk-parallel-item {\n",
       "  display: flex;\n",
       "  flex-direction: column;\n",
       "}\n",
       "\n",
       "#sk-container-id-2 div.sk-parallel-item:first-child::after {\n",
       "  align-self: flex-end;\n",
       "  width: 50%;\n",
       "}\n",
       "\n",
       "#sk-container-id-2 div.sk-parallel-item:last-child::after {\n",
       "  align-self: flex-start;\n",
       "  width: 50%;\n",
       "}\n",
       "\n",
       "#sk-container-id-2 div.sk-parallel-item:only-child::after {\n",
       "  width: 0;\n",
       "}\n",
       "\n",
       "/* Serial-specific style estimator block */\n",
       "\n",
       "#sk-container-id-2 div.sk-serial {\n",
       "  display: flex;\n",
       "  flex-direction: column;\n",
       "  align-items: center;\n",
       "  background-color: var(--sklearn-color-background);\n",
       "  padding-right: 1em;\n",
       "  padding-left: 1em;\n",
       "}\n",
       "\n",
       "\n",
       "/* Toggleable style: style used for estimator/Pipeline/ColumnTransformer box that is\n",
       "clickable and can be expanded/collapsed.\n",
       "- Pipeline and ColumnTransformer use this feature and define the default style\n",
       "- Estimators will overwrite some part of the style using the `sk-estimator` class\n",
       "*/\n",
       "\n",
       "/* Pipeline and ColumnTransformer style (default) */\n",
       "\n",
       "#sk-container-id-2 div.sk-toggleable {\n",
       "  /* Default theme specific background. It is overwritten whether we have a\n",
       "  specific estimator or a Pipeline/ColumnTransformer */\n",
       "  background-color: var(--sklearn-color-background);\n",
       "}\n",
       "\n",
       "/* Toggleable label */\n",
       "#sk-container-id-2 label.sk-toggleable__label {\n",
       "  cursor: pointer;\n",
       "  display: block;\n",
       "  width: 100%;\n",
       "  margin-bottom: 0;\n",
       "  padding: 0.5em;\n",
       "  box-sizing: border-box;\n",
       "  text-align: center;\n",
       "}\n",
       "\n",
       "#sk-container-id-2 label.sk-toggleable__label-arrow:before {\n",
       "  /* Arrow on the left of the label */\n",
       "  content: \"▸\";\n",
       "  float: left;\n",
       "  margin-right: 0.25em;\n",
       "  color: var(--sklearn-color-icon);\n",
       "}\n",
       "\n",
       "#sk-container-id-2 label.sk-toggleable__label-arrow:hover:before {\n",
       "  color: var(--sklearn-color-text);\n",
       "}\n",
       "\n",
       "/* Toggleable content - dropdown */\n",
       "\n",
       "#sk-container-id-2 div.sk-toggleable__content {\n",
       "  max-height: 0;\n",
       "  max-width: 0;\n",
       "  overflow: hidden;\n",
       "  text-align: left;\n",
       "  /* unfitted */\n",
       "  background-color: var(--sklearn-color-unfitted-level-0);\n",
       "}\n",
       "\n",
       "#sk-container-id-2 div.sk-toggleable__content.fitted {\n",
       "  /* fitted */\n",
       "  background-color: var(--sklearn-color-fitted-level-0);\n",
       "}\n",
       "\n",
       "#sk-container-id-2 div.sk-toggleable__content pre {\n",
       "  margin: 0.2em;\n",
       "  border-radius: 0.25em;\n",
       "  color: var(--sklearn-color-text);\n",
       "  /* unfitted */\n",
       "  background-color: var(--sklearn-color-unfitted-level-0);\n",
       "}\n",
       "\n",
       "#sk-container-id-2 div.sk-toggleable__content.fitted pre {\n",
       "  /* unfitted */\n",
       "  background-color: var(--sklearn-color-fitted-level-0);\n",
       "}\n",
       "\n",
       "#sk-container-id-2 input.sk-toggleable__control:checked~div.sk-toggleable__content {\n",
       "  /* Expand drop-down */\n",
       "  max-height: 200px;\n",
       "  max-width: 100%;\n",
       "  overflow: auto;\n",
       "}\n",
       "\n",
       "#sk-container-id-2 input.sk-toggleable__control:checked~label.sk-toggleable__label-arrow:before {\n",
       "  content: \"▾\";\n",
       "}\n",
       "\n",
       "/* Pipeline/ColumnTransformer-specific style */\n",
       "\n",
       "#sk-container-id-2 div.sk-label input.sk-toggleable__control:checked~label.sk-toggleable__label {\n",
       "  color: var(--sklearn-color-text);\n",
       "  background-color: var(--sklearn-color-unfitted-level-2);\n",
       "}\n",
       "\n",
       "#sk-container-id-2 div.sk-label.fitted input.sk-toggleable__control:checked~label.sk-toggleable__label {\n",
       "  background-color: var(--sklearn-color-fitted-level-2);\n",
       "}\n",
       "\n",
       "/* Estimator-specific style */\n",
       "\n",
       "/* Colorize estimator box */\n",
       "#sk-container-id-2 div.sk-estimator input.sk-toggleable__control:checked~label.sk-toggleable__label {\n",
       "  /* unfitted */\n",
       "  background-color: var(--sklearn-color-unfitted-level-2);\n",
       "}\n",
       "\n",
       "#sk-container-id-2 div.sk-estimator.fitted input.sk-toggleable__control:checked~label.sk-toggleable__label {\n",
       "  /* fitted */\n",
       "  background-color: var(--sklearn-color-fitted-level-2);\n",
       "}\n",
       "\n",
       "#sk-container-id-2 div.sk-label label.sk-toggleable__label,\n",
       "#sk-container-id-2 div.sk-label label {\n",
       "  /* The background is the default theme color */\n",
       "  color: var(--sklearn-color-text-on-default-background);\n",
       "}\n",
       "\n",
       "/* On hover, darken the color of the background */\n",
       "#sk-container-id-2 div.sk-label:hover label.sk-toggleable__label {\n",
       "  color: var(--sklearn-color-text);\n",
       "  background-color: var(--sklearn-color-unfitted-level-2);\n",
       "}\n",
       "\n",
       "/* Label box, darken color on hover, fitted */\n",
       "#sk-container-id-2 div.sk-label.fitted:hover label.sk-toggleable__label.fitted {\n",
       "  color: var(--sklearn-color-text);\n",
       "  background-color: var(--sklearn-color-fitted-level-2);\n",
       "}\n",
       "\n",
       "/* Estimator label */\n",
       "\n",
       "#sk-container-id-2 div.sk-label label {\n",
       "  font-family: monospace;\n",
       "  font-weight: bold;\n",
       "  display: inline-block;\n",
       "  line-height: 1.2em;\n",
       "}\n",
       "\n",
       "#sk-container-id-2 div.sk-label-container {\n",
       "  text-align: center;\n",
       "}\n",
       "\n",
       "/* Estimator-specific */\n",
       "#sk-container-id-2 div.sk-estimator {\n",
       "  font-family: monospace;\n",
       "  border: 1px dotted var(--sklearn-color-border-box);\n",
       "  border-radius: 0.25em;\n",
       "  box-sizing: border-box;\n",
       "  margin-bottom: 0.5em;\n",
       "  /* unfitted */\n",
       "  background-color: var(--sklearn-color-unfitted-level-0);\n",
       "}\n",
       "\n",
       "#sk-container-id-2 div.sk-estimator.fitted {\n",
       "  /* fitted */\n",
       "  background-color: var(--sklearn-color-fitted-level-0);\n",
       "}\n",
       "\n",
       "/* on hover */\n",
       "#sk-container-id-2 div.sk-estimator:hover {\n",
       "  /* unfitted */\n",
       "  background-color: var(--sklearn-color-unfitted-level-2);\n",
       "}\n",
       "\n",
       "#sk-container-id-2 div.sk-estimator.fitted:hover {\n",
       "  /* fitted */\n",
       "  background-color: var(--sklearn-color-fitted-level-2);\n",
       "}\n",
       "\n",
       "/* Specification for estimator info (e.g. \"i\" and \"?\") */\n",
       "\n",
       "/* Common style for \"i\" and \"?\" */\n",
       "\n",
       ".sk-estimator-doc-link,\n",
       "a:link.sk-estimator-doc-link,\n",
       "a:visited.sk-estimator-doc-link {\n",
       "  float: right;\n",
       "  font-size: smaller;\n",
       "  line-height: 1em;\n",
       "  font-family: monospace;\n",
       "  background-color: var(--sklearn-color-background);\n",
       "  border-radius: 1em;\n",
       "  height: 1em;\n",
       "  width: 1em;\n",
       "  text-decoration: none !important;\n",
       "  margin-left: 1ex;\n",
       "  /* unfitted */\n",
       "  border: var(--sklearn-color-unfitted-level-1) 1pt solid;\n",
       "  color: var(--sklearn-color-unfitted-level-1);\n",
       "}\n",
       "\n",
       ".sk-estimator-doc-link.fitted,\n",
       "a:link.sk-estimator-doc-link.fitted,\n",
       "a:visited.sk-estimator-doc-link.fitted {\n",
       "  /* fitted */\n",
       "  border: var(--sklearn-color-fitted-level-1) 1pt solid;\n",
       "  color: var(--sklearn-color-fitted-level-1);\n",
       "}\n",
       "\n",
       "/* On hover */\n",
       "div.sk-estimator:hover .sk-estimator-doc-link:hover,\n",
       ".sk-estimator-doc-link:hover,\n",
       "div.sk-label-container:hover .sk-estimator-doc-link:hover,\n",
       ".sk-estimator-doc-link:hover {\n",
       "  /* unfitted */\n",
       "  background-color: var(--sklearn-color-unfitted-level-3);\n",
       "  color: var(--sklearn-color-background);\n",
       "  text-decoration: none;\n",
       "}\n",
       "\n",
       "div.sk-estimator.fitted:hover .sk-estimator-doc-link.fitted:hover,\n",
       ".sk-estimator-doc-link.fitted:hover,\n",
       "div.sk-label-container:hover .sk-estimator-doc-link.fitted:hover,\n",
       ".sk-estimator-doc-link.fitted:hover {\n",
       "  /* fitted */\n",
       "  background-color: var(--sklearn-color-fitted-level-3);\n",
       "  color: var(--sklearn-color-background);\n",
       "  text-decoration: none;\n",
       "}\n",
       "\n",
       "/* Span, style for the box shown on hovering the info icon */\n",
       ".sk-estimator-doc-link span {\n",
       "  display: none;\n",
       "  z-index: 9999;\n",
       "  position: relative;\n",
       "  font-weight: normal;\n",
       "  right: .2ex;\n",
       "  padding: .5ex;\n",
       "  margin: .5ex;\n",
       "  width: min-content;\n",
       "  min-width: 20ex;\n",
       "  max-width: 50ex;\n",
       "  color: var(--sklearn-color-text);\n",
       "  box-shadow: 2pt 2pt 4pt #999;\n",
       "  /* unfitted */\n",
       "  background: var(--sklearn-color-unfitted-level-0);\n",
       "  border: .5pt solid var(--sklearn-color-unfitted-level-3);\n",
       "}\n",
       "\n",
       ".sk-estimator-doc-link.fitted span {\n",
       "  /* fitted */\n",
       "  background: var(--sklearn-color-fitted-level-0);\n",
       "  border: var(--sklearn-color-fitted-level-3);\n",
       "}\n",
       "\n",
       ".sk-estimator-doc-link:hover span {\n",
       "  display: block;\n",
       "}\n",
       "\n",
       "/* \"?\"-specific style due to the `<a>` HTML tag */\n",
       "\n",
       "#sk-container-id-2 a.estimator_doc_link {\n",
       "  float: right;\n",
       "  font-size: 1rem;\n",
       "  line-height: 1em;\n",
       "  font-family: monospace;\n",
       "  background-color: var(--sklearn-color-background);\n",
       "  border-radius: 1rem;\n",
       "  height: 1rem;\n",
       "  width: 1rem;\n",
       "  text-decoration: none;\n",
       "  /* unfitted */\n",
       "  color: var(--sklearn-color-unfitted-level-1);\n",
       "  border: var(--sklearn-color-unfitted-level-1) 1pt solid;\n",
       "}\n",
       "\n",
       "#sk-container-id-2 a.estimator_doc_link.fitted {\n",
       "  /* fitted */\n",
       "  border: var(--sklearn-color-fitted-level-1) 1pt solid;\n",
       "  color: var(--sklearn-color-fitted-level-1);\n",
       "}\n",
       "\n",
       "/* On hover */\n",
       "#sk-container-id-2 a.estimator_doc_link:hover {\n",
       "  /* unfitted */\n",
       "  background-color: var(--sklearn-color-unfitted-level-3);\n",
       "  color: var(--sklearn-color-background);\n",
       "  text-decoration: none;\n",
       "}\n",
       "\n",
       "#sk-container-id-2 a.estimator_doc_link.fitted:hover {\n",
       "  /* fitted */\n",
       "  background-color: var(--sklearn-color-fitted-level-3);\n",
       "}\n",
       "</style><div id=\"sk-container-id-2\" class=\"sk-top-container\"><div class=\"sk-text-repr-fallback\"><pre>KNeighborsClassifier()</pre><b>In a Jupyter environment, please rerun this cell to show the HTML representation or trust the notebook. <br />On GitHub, the HTML representation is unable to render, please try loading this page with nbviewer.org.</b></div><div class=\"sk-container\" hidden><div class=\"sk-item\"><div class=\"sk-estimator fitted sk-toggleable\"><input class=\"sk-toggleable__control sk-hidden--visually\" id=\"sk-estimator-id-2\" type=\"checkbox\" checked><label for=\"sk-estimator-id-2\" class=\"sk-toggleable__label fitted sk-toggleable__label-arrow fitted\">&nbsp;&nbsp;KNeighborsClassifier<a class=\"sk-estimator-doc-link fitted\" rel=\"noreferrer\" target=\"_blank\" href=\"https://scikit-learn.org/1.5/modules/generated/sklearn.neighbors.KNeighborsClassifier.html\">?<span>Documentation for KNeighborsClassifier</span></a><span class=\"sk-estimator-doc-link fitted\">i<span>Fitted</span></span></label><div class=\"sk-toggleable__content fitted\"><pre>KNeighborsClassifier()</pre></div> </div></div></div></div>"
      ]
     },
     "execution_count": 19,
     "metadata": {},
     "output_type": "execute_result"
    }
   ],
   "execution_count": 19
  },
  {
   "cell_type": "code",
   "id": "6932a0c8",
   "metadata": {
    "execution": {
     "iopub.execute_input": "2024-05-07T18:32:46.093399Z",
     "iopub.status.busy": "2024-05-07T18:32:46.093033Z",
     "iopub.status.idle": "2024-05-07T19:20:45.600067Z",
     "shell.execute_reply": "2024-05-07T19:20:45.597790Z"
    },
    "papermill": {
     "duration": 2879.526236,
     "end_time": "2024-05-07T19:20:45.607570",
     "exception": false,
     "start_time": "2024-05-07T18:32:46.081334",
     "status": "completed"
    },
    "tags": [],
    "ExecuteTime": {
     "end_time": "2025-07-10T13:20:18.559473Z",
     "start_time": "2025-07-10T13:17:01.289451Z"
    }
   },
   "source": [
    "y_pred_tfidf = knn_tfidf.predict(X_test_tfidf)"
   ],
   "outputs": [],
   "execution_count": 20
  },
  {
   "cell_type": "code",
   "id": "09cefe4a",
   "metadata": {
    "execution": {
     "iopub.execute_input": "2024-05-07T19:20:45.639625Z",
     "iopub.status.busy": "2024-05-07T19:20:45.638363Z",
     "iopub.status.idle": "2024-05-07T19:20:45.754313Z",
     "shell.execute_reply": "2024-05-07T19:20:45.752921Z"
    },
    "papermill": {
     "duration": 0.133999,
     "end_time": "2024-05-07T19:20:45.758753",
     "exception": false,
     "start_time": "2024-05-07T19:20:45.624754",
     "status": "completed"
    },
    "tags": [],
    "ExecuteTime": {
     "end_time": "2025-07-10T13:20:18.819609Z",
     "start_time": "2025-07-10T13:20:18.696762Z"
    }
   },
   "source": [
    "accuracy_tfidf = accuracy_score(y_test, y_pred_tfidf)\n",
    "print(\"Logistic Regression with TF-IDF Accuracy:\", accuracy_tfidf)\n",
    "print(\"Classification Report with TF-IDF:\")\n",
    "print(classification_report(y_test, y_pred_tfidf))"
   ],
   "outputs": [
    {
     "name": "stdout",
     "output_type": "stream",
     "text": [
      "Logistic Regression with TF-IDF Accuracy: 0.67642\n",
      "Classification Report with TF-IDF:\n",
      "              precision    recall  f1-score   support\n",
      "\n",
      "           1       0.70      0.62      0.66     25028\n",
      "           2       0.66      0.73      0.69     24972\n",
      "\n",
      "    accuracy                           0.68     50000\n",
      "   macro avg       0.68      0.68      0.68     50000\n",
      "weighted avg       0.68      0.68      0.68     50000\n",
      "\n"
     ]
    }
   ],
   "execution_count": 21
  },
  {
   "cell_type": "code",
   "id": "d3a10dd7",
   "metadata": {
    "execution": {
     "iopub.execute_input": "2024-05-07T19:20:45.782755Z",
     "iopub.status.busy": "2024-05-07T19:20:45.782375Z",
     "iopub.status.idle": "2024-05-07T19:20:46.115292Z",
     "shell.execute_reply": "2024-05-07T19:20:46.114056Z"
    },
    "papermill": {
     "duration": 0.348677,
     "end_time": "2024-05-07T19:20:46.118296",
     "exception": false,
     "start_time": "2024-05-07T19:20:45.769619",
     "status": "completed"
    },
    "tags": [],
    "ExecuteTime": {
     "end_time": "2025-07-10T13:20:19.138440Z",
     "start_time": "2025-07-10T13:20:18.874146Z"
    }
   },
   "source": [
    "cm_tfidf = confusion_matrix(y_test, y_pred_tfidf)\n",
    "plt.figure(figsize=(8, 6))\n",
    "sns.heatmap(cm_tfidf, annot=True, fmt='d', cmap='Blues', xticklabels=['Negative', 'Positive'], yticklabels=['Negative', 'Positive'])\n",
    "plt.xlabel('Predicted Label')\n",
    "plt.ylabel('True Label')\n",
    "plt.title('Confusion Matrix Heat Map for TF-IDF')\n",
    "plt.show()"
   ],
   "outputs": [
    {
     "data": {
      "text/plain": [
       "<Figure size 800x600 with 2 Axes>"
      ],
      "image/png": "[encoded data removed]"
     },
     "metadata": {},
     "output_type": "display_data"
    }
   ],
   "execution_count": 22
  },
  {
   "cell_type": "markdown",
   "id": "3fa2ae08",
   "metadata": {
    "papermill": {
     "duration": 0.011899,
     "end_time": "2024-05-07T19:20:46.143383",
     "exception": false,
     "start_time": "2024-05-07T19:20:46.131484",
     "status": "completed"
    },
    "tags": []
   },
   "source": "### KNN menggunakan Word2Vec"
  },
  {
   "cell_type": "code",
   "id": "8d21e333",
   "metadata": {
    "execution": {
     "iopub.execute_input": "2024-05-07T19:20:46.168638Z",
     "iopub.status.busy": "2024-05-07T19:20:46.168213Z",
     "iopub.status.idle": "2024-05-07T19:20:46.194773Z",
     "shell.execute_reply": "2024-05-07T19:20:46.193577Z"
    },
    "papermill": {
     "duration": 0.042026,
     "end_time": "2024-05-07T19:20:46.197287",
     "exception": false,
     "start_time": "2024-05-07T19:20:46.155261",
     "status": "completed"
    },
    "tags": [],
    "ExecuteTime": {
     "end_time": "2025-07-10T13:20:19.328649Z",
     "start_time": "2025-07-10T13:20:19.186923Z"
    }
   },
   "source": [
    "knn_word2vec = KNeighborsClassifier(n_neighbors=5)\n",
    "knn_word2vec.fit(X_train_word2vec, y_train)"
   ],
   "outputs": [
    {
     "data": {
      "text/plain": [
       "KNeighborsClassifier()"
      ],
      "text/html": [
       "<style>#sk-container-id-3 {\n",
       "  /* Definition of color scheme common for light and dark mode */\n",
       "  --sklearn-color-text: black;\n",
       "  --sklearn-color-line: gray;\n",
       "  /* Definition of color scheme for unfitted estimators */\n",
       "  --sklearn-color-unfitted-level-0: #fff5e6;\n",
       "  --sklearn-color-unfitted-level-1: #f6e4d2;\n",
       "  --sklearn-color-unfitted-level-2: #ffe0b3;\n",
       "  --sklearn-color-unfitted-level-3: chocolate;\n",
       "  /* Definition of color scheme for fitted estimators */\n",
       "  --sklearn-color-fitted-level-0: #f0f8ff;\n",
       "  --sklearn-color-fitted-level-1: #d4ebff;\n",
       "  --sklearn-color-fitted-level-2: #b3dbfd;\n",
       "  --sklearn-color-fitted-level-3: cornflowerblue;\n",
       "\n",
       "  /* Specific color for light theme */\n",
       "  --sklearn-color-text-on-default-background: var(--sg-text-color, var(--theme-code-foreground, var(--jp-content-font-color1, black)));\n",
       "  --sklearn-color-background: var(--sg-background-color, var(--theme-background, var(--jp-layout-color0, white)));\n",
       "  --sklearn-color-border-box: var(--sg-text-color, var(--theme-code-foreground, var(--jp-content-font-color1, black)));\n",
       "  --sklearn-color-icon: #696969;\n",
       "\n",
       "  @media (prefers-color-scheme: dark) {\n",
       "    /* Redefinition of color scheme for dark theme */\n",
       "    --sklearn-color-text-on-default-background: var(--sg-text-color, var(--theme-code-foreground, var(--jp-content-font-color1, white)));\n",
       "    --sklearn-color-background: var(--sg-background-color, var(--theme-background, var(--jp-layout-color0, #111)));\n",
       "    --sklearn-color-border-box: var(--sg-text-color, var(--theme-code-foreground, var(--jp-content-font-color1, white)));\n",
       "    --sklearn-color-icon: #878787;\n",
       "  }\n",
       "}\n",
       "\n",
       "#sk-container-id-3 {\n",
       "  color: var(--sklearn-color-text);\n",
       "}\n",
       "\n",
       "#sk-container-id-3 pre {\n",
       "  padding: 0;\n",
       "}\n",
       "\n",
       "#sk-container-id-3 input.sk-hidden--visually {\n",
       "  border: 0;\n",
       "  clip: rect(1px 1px 1px 1px);\n",
       "  clip: rect(1px, 1px, 1px, 1px);\n",
       "  height: 1px;\n",
       "  margin: -1px;\n",
       "  overflow: hidden;\n",
       "  padding: 0;\n",
       "  position: absolute;\n",
       "  width: 1px;\n",
       "}\n",
       "\n",
       "#sk-container-id-3 div.sk-dashed-wrapped {\n",
       "  border: 1px dashed var(--sklearn-color-line);\n",
       "  margin: 0 0.4em 0.5em 0.4em;\n",
       "  box-sizing: border-box;\n",
       "  padding-bottom: 0.4em;\n",
       "  background-color: var(--sklearn-color-background);\n",
       "}\n",
       "\n",
       "#sk-container-id-3 div.sk-container {\n",
       "  /* jupyter's `normalize.less` sets `[hidden] { display: none; }`\n",
       "     but bootstrap.min.css set `[hidden] { display: none !important; }`\n",
       "     so we also need the `!important` here to be able to override the\n",
       "     default hidden behavior on the sphinx rendered scikit-learn.org.\n",
       "     See: https://github.com/scikit-learn/scikit-learn/issues/21755 */\n",
       "  display: inline-block !important;\n",
       "  position: relative;\n",
       "}\n",
       "\n",
       "#sk-container-id-3 div.sk-text-repr-fallback {\n",
       "  display: none;\n",
       "}\n",
       "\n",
       "div.sk-parallel-item,\n",
       "div.sk-serial,\n",
       "div.sk-item {\n",
       "  /* draw centered vertical line to link estimators */\n",
       "  background-image: linear-gradient(var(--sklearn-color-text-on-default-background), var(--sklearn-color-text-on-default-background));\n",
       "  background-size: 2px 100%;\n",
       "  background-repeat: no-repeat;\n",
       "  background-position: center center;\n",
       "}\n",
       "\n",
       "/* Parallel-specific style estimator block */\n",
       "\n",
       "#sk-container-id-3 div.sk-parallel-item::after {\n",
       "  content: \"\";\n",
       "  width: 100%;\n",
       "  border-bottom: 2px solid var(--sklearn-color-text-on-default-background);\n",
       "  flex-grow: 1;\n",
       "}\n",
       "\n",
       "#sk-container-id-3 div.sk-parallel {\n",
       "  display: flex;\n",
       "  align-items: stretch;\n",
       "  justify-content: center;\n",
       "  background-color: var(--sklearn-color-background);\n",
       "  position: relative;\n",
       "}\n",
       "\n",
       "#sk-container-id-3 div.sk-parallel-item {\n",
       "  display: flex;\n",
       "  flex-direction: column;\n",
       "}\n",
       "\n",
       "#sk-container-id-3 div.sk-parallel-item:first-child::after {\n",
       "  align-self: flex-end;\n",
       "  width: 50%;\n",
       "}\n",
       "\n",
       "#sk-container-id-3 div.sk-parallel-item:last-child::after {\n",
       "  align-self: flex-start;\n",
       "  width: 50%;\n",
       "}\n",
       "\n",
       "#sk-container-id-3 div.sk-parallel-item:only-child::after {\n",
       "  width: 0;\n",
       "}\n",
       "\n",
       "/* Serial-specific style estimator block */\n",
       "\n",
       "#sk-container-id-3 div.sk-serial {\n",
       "  display: flex;\n",
       "  flex-direction: column;\n",
       "  align-items: center;\n",
       "  background-color: var(--sklearn-color-background);\n",
       "  padding-right: 1em;\n",
       "  padding-left: 1em;\n",
       "}\n",
       "\n",
       "\n",
       "/* Toggleable style: style used for estimator/Pipeline/ColumnTransformer box that is\n",
       "clickable and can be expanded/collapsed.\n",
       "- Pipeline and ColumnTransformer use this feature and define the default style\n",
       "- Estimators will overwrite some part of the style using the `sk-estimator` class\n",
       "*/\n",
       "\n",
       "/* Pipeline and ColumnTransformer style (default) */\n",
       "\n",
       "#sk-container-id-3 div.sk-toggleable {\n",
       "  /* Default theme specific background. It is overwritten whether we have a\n",
       "  specific estimator or a Pipeline/ColumnTransformer */\n",
       "  background-color: var(--sklearn-color-background);\n",
       "}\n",
       "\n",
       "/* Toggleable label */\n",
       "#sk-container-id-3 label.sk-toggleable__label {\n",
       "  cursor: pointer;\n",
       "  display: block;\n",
       "  width: 100%;\n",
       "  margin-bottom: 0;\n",
       "  padding: 0.5em;\n",
       "  box-sizing: border-box;\n",
       "  text-align: center;\n",
       "}\n",
       "\n",
       "#sk-container-id-3 label.sk-toggleable__label-arrow:before {\n",
       "  /* Arrow on the left of the label */\n",
       "  content: \"▸\";\n",
       "  float: left;\n",
       "  margin-right: 0.25em;\n",
       "  color: var(--sklearn-color-icon);\n",
       "}\n",
       "\n",
       "#sk-container-id-3 label.sk-toggleable__label-arrow:hover:before {\n",
       "  color: var(--sklearn-color-text);\n",
       "}\n",
       "\n",
       "/* Toggleable content - dropdown */\n",
       "\n",
       "#sk-container-id-3 div.sk-toggleable__content {\n",
       "  max-height: 0;\n",
       "  max-width: 0;\n",
       "  overflow: hidden;\n",
       "  text-align: left;\n",
       "  /* unfitted */\n",
       "  background-color: var(--sklearn-color-unfitted-level-0);\n",
       "}\n",
       "\n",
       "#sk-container-id-3 div.sk-toggleable__content.fitted {\n",
       "  /* fitted */\n",
       "  background-color: var(--sklearn-color-fitted-level-0);\n",
       "}\n",
       "\n",
       "#sk-container-id-3 div.sk-toggleable__content pre {\n",
       "  margin: 0.2em;\n",
       "  border-radius: 0.25em;\n",
       "  color: var(--sklearn-color-text);\n",
       "  /* unfitted */\n",
       "  background-color: var(--sklearn-color-unfitted-level-0);\n",
       "}\n",
       "\n",
       "#sk-container-id-3 div.sk-toggleable__content.fitted pre {\n",
       "  /* unfitted */\n",
       "  background-color: var(--sklearn-color-fitted-level-0);\n",
       "}\n",
       "\n",
       "#sk-container-id-3 input.sk-toggleable__control:checked~div.sk-toggleable__content {\n",
       "  /* Expand drop-down */\n",
       "  max-height: 200px;\n",
       "  max-width: 100%;\n",
       "  overflow: auto;\n",
       "}\n",
       "\n",
       "#sk-container-id-3 input.sk-toggleable__control:checked~label.sk-toggleable__label-arrow:before {\n",
       "  content: \"▾\";\n",
       "}\n",
       "\n",
       "/* Pipeline/ColumnTransformer-specific style */\n",
       "\n",
       "#sk-container-id-3 div.sk-label input.sk-toggleable__control:checked~label.sk-toggleable__label {\n",
       "  color: var(--sklearn-color-text);\n",
       "  background-color: var(--sklearn-color-unfitted-level-2);\n",
       "}\n",
       "\n",
       "#sk-container-id-3 div.sk-label.fitted input.sk-toggleable__control:checked~label.sk-toggleable__label {\n",
       "  background-color: var(--sklearn-color-fitted-level-2);\n",
       "}\n",
       "\n",
       "/* Estimator-specific style */\n",
       "\n",
       "/* Colorize estimator box */\n",
       "#sk-container-id-3 div.sk-estimator input.sk-toggleable__control:checked~label.sk-toggleable__label {\n",
       "  /* unfitted */\n",
       "  background-color: var(--sklearn-color-unfitted-level-2);\n",
       "}\n",
       "\n",
       "#sk-container-id-3 div.sk-estimator.fitted input.sk-toggleable__control:checked~label.sk-toggleable__label {\n",
       "  /* fitted */\n",
       "  background-color: var(--sklearn-color-fitted-level-2);\n",
       "}\n",
       "\n",
       "#sk-container-id-3 div.sk-label label.sk-toggleable__label,\n",
       "#sk-container-id-3 div.sk-label label {\n",
       "  /* The background is the default theme color */\n",
       "  color: var(--sklearn-color-text-on-default-background);\n",
       "}\n",
       "\n",
       "/* On hover, darken the color of the background */\n",
       "#sk-container-id-3 div.sk-label:hover label.sk-toggleable__label {\n",
       "  color: var(--sklearn-color-text);\n",
       "  background-color: var(--sklearn-color-unfitted-level-2);\n",
       "}\n",
       "\n",
       "/* Label box, darken color on hover, fitted */\n",
       "#sk-container-id-3 div.sk-label.fitted:hover label.sk-toggleable__label.fitted {\n",
       "  color: var(--sklearn-color-text);\n",
       "  background-color: var(--sklearn-color-fitted-level-2);\n",
       "}\n",
       "\n",
       "/* Estimator label */\n",
       "\n",
       "#sk-container-id-3 div.sk-label label {\n",
       "  font-family: monospace;\n",
       "  font-weight: bold;\n",
       "  display: inline-block;\n",
       "  line-height: 1.2em;\n",
       "}\n",
       "\n",
       "#sk-container-id-3 div.sk-label-container {\n",
       "  text-align: center;\n",
       "}\n",
       "\n",
       "/* Estimator-specific */\n",
       "#sk-container-id-3 div.sk-estimator {\n",
       "  font-family: monospace;\n",
       "  border: 1px dotted var(--sklearn-color-border-box);\n",
       "  border-radius: 0.25em;\n",
       "  box-sizing: border-box;\n",
       "  margin-bottom: 0.5em;\n",
       "  /* unfitted */\n",
       "  background-color: var(--sklearn-color-unfitted-level-0);\n",
       "}\n",
       "\n",
       "#sk-container-id-3 div.sk-estimator.fitted {\n",
       "  /* fitted */\n",
       "  background-color: var(--sklearn-color-fitted-level-0);\n",
       "}\n",
       "\n",
       "/* on hover */\n",
       "#sk-container-id-3 div.sk-estimator:hover {\n",
       "  /* unfitted */\n",
       "  background-color: var(--sklearn-color-unfitted-level-2);\n",
       "}\n",
       "\n",
       "#sk-container-id-3 div.sk-estimator.fitted:hover {\n",
       "  /* fitted */\n",
       "  background-color: var(--sklearn-color-fitted-level-2);\n",
       "}\n",
       "\n",
       "/* Specification for estimator info (e.g. \"i\" and \"?\") */\n",
       "\n",
       "/* Common style for \"i\" and \"?\" */\n",
       "\n",
       ".sk-estimator-doc-link,\n",
       "a:link.sk-estimator-doc-link,\n",
       "a:visited.sk-estimator-doc-link {\n",
       "  float: right;\n",
       "  font-size: smaller;\n",
       "  line-height: 1em;\n",
       "  font-family: monospace;\n",
       "  background-color: var(--sklearn-color-background);\n",
       "  border-radius: 1em;\n",
       "  height: 1em;\n",
       "  width: 1em;\n",
       "  text-decoration: none !important;\n",
       "  margin-left: 1ex;\n",
       "  /* unfitted */\n",
       "  border: var(--sklearn-color-unfitted-level-1) 1pt solid;\n",
       "  color: var(--sklearn-color-unfitted-level-1);\n",
       "}\n",
       "\n",
       ".sk-estimator-doc-link.fitted,\n",
       "a:link.sk-estimator-doc-link.fitted,\n",
       "a:visited.sk-estimator-doc-link.fitted {\n",
       "  /* fitted */\n",
       "  border: var(--sklearn-color-fitted-level-1) 1pt solid;\n",
       "  color: var(--sklearn-color-fitted-level-1);\n",
       "}\n",
       "\n",
       "/* On hover */\n",
       "div.sk-estimator:hover .sk-estimator-doc-link:hover,\n",
       ".sk-estimator-doc-link:hover,\n",
       "div.sk-label-container:hover .sk-estimator-doc-link:hover,\n",
       ".sk-estimator-doc-link:hover {\n",
       "  /* unfitted */\n",
       "  background-color: var(--sklearn-color-unfitted-level-3);\n",
       "  color: var(--sklearn-color-background);\n",
       "  text-decoration: none;\n",
       "}\n",
       "\n",
       "div.sk-estimator.fitted:hover .sk-estimator-doc-link.fitted:hover,\n",
       ".sk-estimator-doc-link.fitted:hover,\n",
       "div.sk-label-container:hover .sk-estimator-doc-link.fitted:hover,\n",
       ".sk-estimator-doc-link.fitted:hover {\n",
       "  /* fitted */\n",
       "  background-color: var(--sklearn-color-fitted-level-3);\n",
       "  color: var(--sklearn-color-background);\n",
       "  text-decoration: none;\n",
       "}\n",
       "\n",
       "/* Span, style for the box shown on hovering the info icon */\n",
       ".sk-estimator-doc-link span {\n",
       "  display: none;\n",
       "  z-index: 9999;\n",
       "  position: relative;\n",
       "  font-weight: normal;\n",
       "  right: .2ex;\n",
       "  padding: .5ex;\n",
       "  margin: .5ex;\n",
       "  width: min-content;\n",
       "  min-width: 20ex;\n",
       "  max-width: 50ex;\n",
       "  color: var(--sklearn-color-text);\n",
       "  box-shadow: 2pt 2pt 4pt #999;\n",
       "  /* unfitted */\n",
       "  background: var(--sklearn-color-unfitted-level-0);\n",
       "  border: .5pt solid var(--sklearn-color-unfitted-level-3);\n",
       "}\n",
       "\n",
       ".sk-estimator-doc-link.fitted span {\n",
       "  /* fitted */\n",
       "  background: var(--sklearn-color-fitted-level-0);\n",
       "  border: var(--sklearn-color-fitted-level-3);\n",
       "}\n",
       "\n",
       ".sk-estimator-doc-link:hover span {\n",
       "  display: block;\n",
       "}\n",
       "\n",
       "/* \"?\"-specific style due to the `<a>` HTML tag */\n",
       "\n",
       "#sk-container-id-3 a.estimator_doc_link {\n",
       "  float: right;\n",
       "  font-size: 1rem;\n",
       "  line-height: 1em;\n",
       "  font-family: monospace;\n",
       "  background-color: var(--sklearn-color-background);\n",
       "  border-radius: 1rem;\n",
       "  height: 1rem;\n",
       "  width: 1rem;\n",
       "  text-decoration: none;\n",
       "  /* unfitted */\n",
       "  color: var(--sklearn-color-unfitted-level-1);\n",
       "  border: var(--sklearn-color-unfitted-level-1) 1pt solid;\n",
       "}\n",
       "\n",
       "#sk-container-id-3 a.estimator_doc_link.fitted {\n",
       "  /* fitted */\n",
       "  border: var(--sklearn-color-fitted-level-1) 1pt solid;\n",
       "  color: var(--sklearn-color-fitted-level-1);\n",
       "}\n",
       "\n",
       "/* On hover */\n",
       "#sk-container-id-3 a.estimator_doc_link:hover {\n",
       "  /* unfitted */\n",
       "  background-color: var(--sklearn-color-unfitted-level-3);\n",
       "  color: var(--sklearn-color-background);\n",
       "  text-decoration: none;\n",
       "}\n",
       "\n",
       "#sk-container-id-3 a.estimator_doc_link.fitted:hover {\n",
       "  /* fitted */\n",
       "  background-color: var(--sklearn-color-fitted-level-3);\n",
       "}\n",
       "</style><div id=\"sk-container-id-3\" class=\"sk-top-container\"><div class=\"sk-text-repr-fallback\"><pre>KNeighborsClassifier()</pre><b>In a Jupyter environment, please rerun this cell to show the HTML representation or trust the notebook. <br />On GitHub, the HTML representation is unable to render, please try loading this page with nbviewer.org.</b></div><div class=\"sk-container\" hidden><div class=\"sk-item\"><div class=\"sk-estimator fitted sk-toggleable\"><input class=\"sk-toggleable__control sk-hidden--visually\" id=\"sk-estimator-id-3\" type=\"checkbox\" checked><label for=\"sk-estimator-id-3\" class=\"sk-toggleable__label fitted sk-toggleable__label-arrow fitted\">&nbsp;&nbsp;KNeighborsClassifier<a class=\"sk-estimator-doc-link fitted\" rel=\"noreferrer\" target=\"_blank\" href=\"https://scikit-learn.org/1.5/modules/generated/sklearn.neighbors.KNeighborsClassifier.html\">?<span>Documentation for KNeighborsClassifier</span></a><span class=\"sk-estimator-doc-link fitted\">i<span>Fitted</span></span></label><div class=\"sk-toggleable__content fitted\"><pre>KNeighborsClassifier()</pre></div> </div></div></div></div>"
      ]
     },
     "execution_count": 23,
     "metadata": {},
     "output_type": "execute_result"
    }
   ],
   "execution_count": 23
  },
  {
   "cell_type": "code",
   "id": "21e4df19",
   "metadata": {
    "execution": {
     "iopub.execute_input": "2024-05-07T19:20:46.222605Z",
     "iopub.status.busy": "2024-05-07T19:20:46.222230Z",
     "iopub.status.idle": "2024-05-07T19:21:33.103677Z",
     "shell.execute_reply": "2024-05-07T19:21:33.102666Z"
    },
    "papermill": {
     "duration": 46.897088,
     "end_time": "2024-05-07T19:21:33.106383",
     "exception": false,
     "start_time": "2024-05-07T19:20:46.209295",
     "status": "completed"
    },
    "tags": [],
    "ExecuteTime": {
     "end_time": "2025-07-10T13:21:03.202472Z",
     "start_time": "2025-07-10T13:20:19.404847Z"
    }
   },
   "source": [
    "y_pred_word2vec = knn_word2vec.predict(X_test_word2vec)"
   ],
   "outputs": [],
   "execution_count": 24
  },
  {
   "cell_type": "code",
   "id": "1bd46e3f",
   "metadata": {
    "execution": {
     "iopub.execute_input": "2024-05-07T19:21:33.132396Z",
     "iopub.status.busy": "2024-05-07T19:21:33.131369Z",
     "iopub.status.idle": "2024-05-07T19:21:33.242133Z",
     "shell.execute_reply": "2024-05-07T19:21:33.240779Z"
    },
    "papermill": {
     "duration": 0.12607,
     "end_time": "2024-05-07T19:21:33.244575",
     "exception": false,
     "start_time": "2024-05-07T19:21:33.118505",
     "status": "completed"
    },
    "tags": [],
    "ExecuteTime": {
     "end_time": "2025-07-10T13:21:03.371149Z",
     "start_time": "2025-07-10T13:21:03.257541Z"
    }
   },
   "source": [
    "accuracy_word2vec = accuracy_score(y_test, y_pred_word2vec)\n",
    "print(\"Logistic Regression with Word2Vec Accuracy:\", accuracy_word2vec)\n",
    "print(\"Classification Report with Word2Vec:\")\n",
    "print(classification_report(y_test, y_pred_word2vec))"
   ],
   "outputs": [
    {
     "name": "stdout",
     "output_type": "stream",
     "text": [
      "Logistic Regression with Word2Vec Accuracy: 0.78962\n",
      "Classification Report with Word2Vec:\n",
      "              precision    recall  f1-score   support\n",
      "\n",
      "           1       0.79      0.79      0.79     25028\n",
      "           2       0.79      0.79      0.79     24972\n",
      "\n",
      "    accuracy                           0.79     50000\n",
      "   macro avg       0.79      0.79      0.79     50000\n",
      "weighted avg       0.79      0.79      0.79     50000\n",
      "\n"
     ]
    }
   ],
   "execution_count": 25
  },
  {
   "cell_type": "code",
   "id": "f285bfac",
   "metadata": {
    "execution": {
     "iopub.execute_input": "2024-05-07T19:21:33.270396Z",
     "iopub.status.busy": "2024-05-07T19:21:33.269521Z",
     "iopub.status.idle": "2024-05-07T19:21:33.584794Z",
     "shell.execute_reply": "2024-05-07T19:21:33.584003Z"
    },
    "papermill": {
     "duration": 0.330355,
     "end_time": "2024-05-07T19:21:33.586828",
     "exception": false,
     "start_time": "2024-05-07T19:21:33.256473",
     "status": "completed"
    },
    "tags": [],
    "ExecuteTime": {
     "end_time": "2025-07-10T13:21:03.822604Z",
     "start_time": "2025-07-10T13:21:03.454322Z"
    }
   },
   "source": [
    "cm_word2vec = confusion_matrix(y_test, y_pred_word2vec)\n",
    "plt.figure(figsize=(8, 6))\n",
    "sns.heatmap(cm_word2vec, annot=True, fmt='d', cmap='Blues', xticklabels=['Negative', 'Positive'], yticklabels=['Negative', 'Positive'])\n",
    "plt.xlabel('Predicted Label')\n",
    "plt.ylabel('True Label')\n",
    "plt.title('Confusion Matrix Heat Map for Word2Vec')\n",
    "plt.show()"
   ],
   "outputs": [
    {
     "data": {
      "text/plain": [
       "<Figure size 800x600 with 2 Axes>"
      ],
      "image/png": "[encoded data removed]"
     },
     "metadata": {},
     "output_type": "display_data"
    }
   ],
   "execution_count": 26
  },
  {
   "cell_type": "markdown",
   "id": "4dcb3dec",
   "metadata": {
    "papermill": {
     "duration": 0.011918,
     "end_time": "2024-05-07T19:21:33.611119",
     "exception": false,
     "start_time": "2024-05-07T19:21:33.599201",
     "status": "completed"
    },
    "tags": []
   },
   "source": "## Perbandingan Model"
  },
  {
   "cell_type": "code",
   "id": "e31b1c2a",
   "metadata": {
    "execution": {
     "iopub.execute_input": "2024-05-07T19:21:33.637635Z",
     "iopub.status.busy": "2024-05-07T19:21:33.637038Z",
     "iopub.status.idle": "2024-05-07T19:21:33.862379Z",
     "shell.execute_reply": "2024-05-07T19:21:33.861271Z"
    },
    "papermill": {
     "duration": 0.241315,
     "end_time": "2024-05-07T19:21:33.864701",
     "exception": false,
     "start_time": "2024-05-07T19:21:33.623386",
     "status": "completed"
    },
    "tags": [],
    "ExecuteTime": {
     "end_time": "2025-07-10T13:21:04.113941Z",
     "start_time": "2025-07-10T13:21:03.882422Z"
    }
   },
   "source": [
    "models = ['BoW', 'TF-IDF', 'Word2Vec']\n",
    "accuracies = [accuracy_bow, accuracy_tfidf, accuracy_word2vec]\n",
    "\n",
    "plt.figure(figsize=(10, 6))\n",
    "plt.bar(models, accuracies, color='skyblue')\n",
    "plt.xlabel('Models')\n",
    "plt.ylabel('Accuracy')\n",
    "plt.title('Comparison of Different Models')\n",
    "plt.ylim(0, 1)\n",
    "plt.show()"
   ],
   "outputs": [
    {
     "data": {
      "text/plain": [
       "<Figure size 1000x600 with 1 Axes>"
      ],
      "image/png": "[encoded data removed]"
     },
     "metadata": {},
     "output_type": "display_data"
    }
   ],
   "execution_count": 27
  },
  {
   "cell_type": "code",
   "id": "3ff766ab",
   "metadata": {
    "papermill": {
     "duration": 0.0126,
     "end_time": "2024-05-07T19:21:33.890537",
     "exception": false,
     "start_time": "2024-05-07T19:21:33.877937",
     "status": "completed"
    },
    "tags": [],
    "ExecuteTime": {
     "end_time": "2025-07-10T13:21:04.171344Z",
     "start_time": "2025-07-10T13:21:04.166906Z"
    }
   },
   "source": [],
   "outputs": [],
   "execution_count": null
  }
 ],
 "metadata": {
  "kaggle": {
   "accelerator": "none",
   "dataSources": [
    {
     "datasetId": 1340369,
     "sourceId": 2233682,
     "sourceType": "datasetVersion"
    }
   ],
   "dockerImageVersionId": 30699,
   "isGpuEnabled": false,
   "isInternetEnabled": true,
   "language": "python",
   "sourceType": "notebook"
  },
  "kernelspec": {
   "display_name": "Python [conda env:base] *",
   "language": "python",
   "name": "conda-base-py"
  },
  "language_info": {
   "codemirror_mode": {
    "name": "ipython",
    "version": 3
   },
   "file_extension": ".py",
   "mimetype": "text/x-python",
   "name": "python",
   "nbconvert_exporter": "python",
   "pygments_lexer": "ipython3",
   "version": "3.10.13"
  },
  "papermill": {
   "default_parameters": {},
   "duration": 3707.126625,
   "end_time": "2024-05-07T19:21:37.187760",
   "environment_variables": {},
   "exception": null,
   "input_path": "__notebook__.ipynb",
   "output_path": "__notebook__.ipynb",
   "parameters": {},
   "start_time": "2024-05-07T18:19:50.061135",
   "version": "2.5.0"
  }
 },
 "nbformat": 4,
 "nbformat_minor": 5
}
